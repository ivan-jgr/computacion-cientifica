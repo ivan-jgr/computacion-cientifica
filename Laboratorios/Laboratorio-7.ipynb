{
 "cells": [
  {
   "cell_type": "markdown",
   "metadata": {},
   "source": [
    "# Transformada Discreta de Fourier\n",
    "\n",
    "La Transformada Discreta de Fourier (*Discrete Fourier Transform* - DFT) es una técnica utilizada para convertir datos espaciales o temporales al *dominio de la frecuencia*.\n",
    "\n",
    "Podemos dividir la transformada de Fourier en diferentes tipos. La subdivisión más básica es la basada en el tipo de datos sobre los que la transformada opera: funciones continuas o discretas. En este laboratorio trabajaremos solo con la transformada Discreta de Fourier (DFT). La librería `scipy` provee el módulo `scipy.fft` para calcular la transformada discreta de Fourier utilozando el algoritmo de la transformada rápida de Fourier (*Fast Fourier Transform* - FFT).\n",
    "\n",
    "Es usual que los términos \"Transformada Discreta\" y \"Transformada Rápida\" se usen de forma intercambiable aunque no son precisamente lo mismo. La transformada rápida de Fourier (FFT) es un algoritmo para calcular la transformad discreta de Fourier (DFT).\n",
    "\n",
    "En general, necesitamso usar la transformada de Fourier si queremos obtener las frecuencias presentes en un señal. En algunas situaciones puede resultar más conveniente estudiar un problema en el dominio de la frecuencia que en el dominio del tiempo.\n",
    "\n",
    "> If you want to find the secrets of the universe, think in terms of energy, frequency and vibration. (Nikola Tesla)\n"
   ]
  },
  {
   "cell_type": "markdown",
   "metadata": {},
   "source": [
    "### Analizando señales simples\n",
    "\n",
    "Empecemos analizando señales con una sola componente de frecuencia, i.e. señales de la forma $sin(2 \\pi  f t)$."
   ]
  },
  {
   "cell_type": "code",
   "execution_count": null,
   "metadata": {},
   "outputs": [],
   "source": [
    "import numpy as np\n",
    "from matplotlib import pyplot as plt\n",
    "\n",
    "FRECUENCIA_MUESTREO = 100  # Frecuencia de muestreo\n",
    "DURACION = 5  # Duración de la señal generada\n",
    "\n",
    "def generar_onda_sinusoidal(freq, freq_muestreo, duracion):\n",
    "    x = np.linspace(0, duracion, freq_muestreo * duracion, endpoint=False)\n",
    "    frequencies = x * freq\n",
    "    # 2pi porque sin recibe radianes\n",
    "    y = np.sin((2 * np.pi) * frequencies)\n",
    "    return x, y\n",
    "\n",
    "# Generamos una señal sinusoidal con una frecuencia de 2 Hz y \n",
    "# con duración de 5 segundos.\n",
    "x, y = generar_onda_sinusoidal(5, FRECUENCIA_MUESTREO, DURACION)\n",
    "plt.plot(x, y)\n",
    "\n",
    "plt.xlabel('Tiempo [s]')\n",
    "plt.ylabel('Amplitud de la Señal')\n",
    "plt.grid()\n",
    "\n",
    "plt.show()"
   ]
  },
  {
   "cell_type": "code",
   "execution_count": null,
   "metadata": {},
   "outputs": [],
   "source": [
    "from scipy import fftpack\n",
    "\n",
    "# Obtenemos la transformada de Fourier de la señal y\n",
    "Y = fftpack.fft(y)\n",
    "# Obtenemos las frecuencias asociadas, note que esto depende\n",
    "# de las muestras tomadas.\n",
    "freqs = fftpack.fftfreq(len(y)) * FRECUENCIA_MUESTREO\n",
    "\n",
    "fig, ax = plt.subplots()\n",
    "\n",
    "ax.stem(freqs, np.abs(Y), use_line_collection=True)\n",
    "ax.set_xlabel('Frequencia en Hertz [Hz]')\n",
    "ax.set_ylabel('Magnitud en el Dominio de la Frecuencia')\n",
    "ax.set_xlim(-FRECUENCIA_MUESTREO / 2, FRECUENCIA_MUESTREO / 2)\n",
    "\n",
    "plt.grid(linestyle = \"--\")\n",
    "plt.show()"
   ]
  },
  {
   "cell_type": "markdown",
   "metadata": {},
   "source": [
    "Note que en la gráfica anterior se observan picos para las frecuencias $f = 5$ Hz y $f = -5$ Hz. Recuerde que la transformada **continua** de Fourier para $f(t) = \\sin (\\omega t )$ es $F(\\omega) = i \\pi [\\delta(\\omega + \\omega_0) - \\delta (\\omega  - \\omega_0)]$."
   ]
  },
  {
   "cell_type": "code",
   "execution_count": null,
   "metadata": {},
   "outputs": [],
   "source": [
    "# Generemos dos señales con frecuencias f1 = 5 Hz y f2 = 13 Hz respectivamente\n",
    "t, x1 = generar_onda_sinusoidal(5, FRECUENCIA_MUESTREO, DURACION)\n",
    "t, x2 = generar_onda_sinusoidal(13, FRECUENCIA_MUESTREO, DURACION)\n",
    "\n",
    "# Generemos una señal a partir de las anteriores\n",
    "x = x1 + 0.5*x2\n",
    "\n",
    "fig, ax = plt.subplots()\n",
    "ax.plot(t, x)\n",
    "ax.set_xlabel('Tiempo [s]')\n",
    "ax.set_ylabel('Amplitud de la Señal')\n",
    "plt.grid()\n",
    "plt.show();"
   ]
  },
  {
   "cell_type": "code",
   "execution_count": null,
   "metadata": {},
   "outputs": [],
   "source": [
    "from scipy import fftpack\n",
    "\n",
    "# Obtenemos la transformada de Fourier de la señal y\n",
    "X = fftpack.fft(x)\n",
    "# Obtenemos las frecuencias asociadas, note que esto depende\n",
    "# de las muestras tomadas.\n",
    "freqs = fftpack.fftfreq(len(x)) * FRECUENCIA_MUESTREO\n",
    "\n",
    "fig, ax = plt.subplots()\n",
    "\n",
    "ax.stem(freqs, np.abs(X), use_line_collection=True)\n",
    "ax.set_xlabel('Frequencia en Hertz [Hz]')\n",
    "ax.set_ylabel('Magnitud en el Dominio de la Frecuencia')\n",
    "\n",
    "plt.grid(linestyle = \"--\")\n",
    "plt.show()"
   ]
  },
  {
   "cell_type": "markdown",
   "metadata": {},
   "source": [
    "Nuevamente, note que podemos diferenciar las dos componentes de frecuencia de la señal anterior (5 Hz y 13 Hz). Ademas se observa que la amplitud de la señal de 13 Hz es la mitad de la de 5 Hz.\n",
    "\n",
    "Estes ejemplos ilustran el uso de la transformada de Fourier Discreta. Es muy fácil interpretar la transformada para señales que tienen comonentes de frecuencia específicos, las señales de interés usualmente tienen muchos componentes de frecuencia (posiblemente infinitos componentes) y es donde la transformada discreta resulta extremadamente útil.\n",
    "\n",
    "<img src=\"https://upload.wikimedia.org/wikipedia/commons/5/50/Fourier_transform_time_and_frequency_domains.gif\"/>"
   ]
  },
  {
   "cell_type": "markdown",
   "metadata": {},
   "source": [
    "#### <ins> Problema 1: </ins>\n",
    "\n",
    "Identifique las componentes de frecuencia presentes en la siguiente señal que fue muestreada a `FRECUENCIA_MUESTREO = 200 Hz` para $0 \\leq t \\leq 5$."
   ]
  },
  {
   "cell_type": "code",
   "execution_count": null,
   "metadata": {},
   "outputs": [],
   "source": [
    "import numpy as np\n",
    "from matplotlib import pyplot as plt\n",
    "\n",
    "# Señal para el problema 1\n",
    "x = np.load('senial_problema1.npy')"
   ]
  },
  {
   "cell_type": "code",
   "execution_count": null,
   "metadata": {},
   "outputs": [],
   "source": [
    "# Resuelva aquí el problema 1.\n"
   ]
  },
  {
   "cell_type": "markdown",
   "metadata": {},
   "source": [
    "### DFT y filtrado\n",
    "\n",
    "Veremos como funciona la transformada de Fourier Discreta (`scipy.fftpack.fft()`, `scipy.fftpack.fftfreq()`) y la su inversa `scipy.fftpack.ifft()`."
   ]
  },
  {
   "cell_type": "code",
   "execution_count": null,
   "metadata": {},
   "outputs": [],
   "source": [
    "# Seed para el generador de numeros aleatorios\n",
    "np.random.seed(31415)\n",
    "\n",
    "# Frecuencia de la señal\n",
    "f = 1.0/5\n",
    "# Frecuencia de muestreo\n",
    "fs = 50\n",
    "t = np.arange(0, 20, 1/fs)\n",
    "# Generemos una señal\n",
    "senial = np.sin(2 * np.pi * f * t)\n",
    "# Modelemos algo de ruido\n",
    "ruido = 0.5 * np.random.randn(t.size)\n",
    "# Generemos una señal con ruido\n",
    "senial_ruido = senial + ruido\n",
    "plt.plot(t, senial_ruido, label='Original signal')\n",
    "plt.grid()"
   ]
  },
  {
   "cell_type": "code",
   "execution_count": null,
   "metadata": {},
   "outputs": [],
   "source": [
    "# Calculemos la transformada de Fourier de la señal con ruido\n",
    "senial_fft = fftpack.fft(senial_ruido)\n",
    "\n",
    "# Espectro de potencia de la transformada\n",
    "espectro_potencia = np.abs(senial_fft)**2\n",
    "\n",
    "# Obtenemos las correspondientes frecuencias\n",
    "freq = fftpack.fftfreq(senial_ruido.size, d=1/fs)\n",
    "\n",
    "# Grafiquemos el espectro de potencia\n",
    "plt.figure(figsize=(6, 5))\n",
    "plt.plot(freq, espectro_potencia)\n",
    "plt.xlabel('Frecuencia [Hz]')\n",
    "plt.ylabel('$|F|^2$')\n",
    "\n",
    "# Quedemos solo con las frecuencias positivas\n",
    "pos_freq_mask = np.where(freq > 0)\n",
    "pos_freq = freq[pos_freq_mask]\n",
    "\n",
    "# Encontremos la frecuencia mas alta\n",
    "peak_freq = pos_freq[espectro_potencia[pos_freq_mask].argmax()]\n",
    "\n",
    "print(\"Frecuencia Pico\", peak_freq)\n",
    "\n",
    "# Veamos en donde está la frecuencia mas alta (Frecuencia pico)\n",
    "axes = plt.axes([0.55, 0.3, 0.3, 0.5])\n",
    "plt.title('Frecuencia Pico')\n",
    "plt.plot(pos_freq[:8], espectro_potencia[:8])\n",
    "plt.setp(axes, yticks=[])\n",
    "plt.show()"
   ]
  },
  {
   "cell_type": "code",
   "execution_count": null,
   "metadata": {},
   "outputs": [],
   "source": [
    "high_freq_fft = senial_fft.copy()\n",
    "high_freq_fft[np.abs(freq) > peak_freq] = 0\n",
    "filtered_sig = fftpack.ifft(high_freq_fft)\n",
    "\n",
    "plt.figure(figsize=(6, 5))\n",
    "#plt.plot(t, sig, label='Original signal')\n",
    "plt.plot(t, filtered_sig, label='Filtered signal')\n",
    "plt.xlabel('Time [s]')\n",
    "plt.ylabel('Amplitude')\n",
    "plt.grid()\n",
    "plt.show()"
   ]
  },
  {
   "cell_type": "markdown",
   "metadata": {},
   "source": [
    "#### <ins> Problema 2: </ins>\n",
    "\n",
    "Implementar un filtro de paso bajo, i.e. dada una señal `x` deberá elimar todas las frecuencias superiores a una frecuencia dada `f_c`. El ejemplo anterior puede servirle de ejemplo, deberá elimar (hacer que su amplitud sea `0`) todas las frecuencias no deseadas."
   ]
  },
  {
   "cell_type": "code",
   "execution_count": null,
   "metadata": {},
   "outputs": [],
   "source": [
    "def filtro_paso_bajo(x, fs, f_c):\n",
    "    \"\"\"\n",
    "    :param x: (np.array) es la señal quese desea filtrar\n",
    "    :param fs: es la frecuencia a la que fue muestreada la señal x\n",
    "    :param f_c: es la frecuencia de corte\n",
    "    \n",
    "    :return: returna la señal filtrada como un arreglo de numpy con la misma dimensión que x\n",
    "    \"\"\"\n",
    "    pass"
   ]
  },
  {
   "cell_type": "code",
   "execution_count": null,
   "metadata": {},
   "outputs": [],
   "source": [
    "from matplotlib import rcParams\n",
    "rcParams['figure.figsize'] = 15, 10\n",
    "import warnings\n",
    "warnings.filterwarnings(\"ignore\")\n",
    "\n",
    "# Señal de prueba pra el filtro\n",
    "fs = 50\n",
    "t = np.linspace(0, 5, fs*5, endpoint=False)\n",
    "all_freq = [2, 5, 15, 20]\n",
    "x = sum([np.sin(2*np.pi*fi*t) for fi in all_freq])\n",
    "\n",
    "plt.subplot(2, 2, 1)\n",
    "# Señal orginal\n",
    "plt.plot(t, x, label='Señal original')\n",
    "plt.grid()\n",
    "plt.legend()\n",
    "\n",
    "plt.subplot(2, 2, 2)\n",
    "# Filtrar las señales mayores a 4 Hz\n",
    "y = filtro_paso_bajo(x, fs, 4)\n",
    "plt.plot(t, y, linewidth=2, label='$f_c = 4 Hz$', color='red')\n",
    "plt.ylim(-3, 3)\n",
    "plt.grid()\n",
    "plt.legend()\n",
    "\n",
    "plt.subplot(2, 2, 3)\n",
    "# Filtrar las señales mayores a 10 Hz\n",
    "y = filtro_paso_bajo(x, fs, 10)\n",
    "plt.plot(t, y, linewidth=2, label='$f_c = 10 Hz$', color='red')\n",
    "plt.ylim(-3, 3)\n",
    "plt.grid()\n",
    "plt.legend()\n",
    "\n",
    "plt.subplot(2, 2, 4)\n",
    "# Filtrar las señales mayores a 6 Hz\n",
    "y = filtro_paso_bajo(x, fs, 16)\n",
    "plt.plot(t, y, linewidth=2, label='$f_c = 16 Hz$', color='red')\n",
    "plt.ylim(-3, 3)\n",
    "plt.grid()\n",
    "plt.legend()\n",
    "\n",
    "plt.show()"
   ]
  },
  {
   "cell_type": "markdown",
   "metadata": {},
   "source": [
    "### Analizando señales de audio con la DFT\n",
    "\n",
    "Definimos el espectro de un sonido como la representación de la distribución de energía sonora de dicho sonido en función de la **frecuencia**. Utilizaremos la librería [librosa](https://librosa.org/doc/latest/index.html) para generar espectros."
   ]
  },
  {
   "cell_type": "code",
   "execution_count": null,
   "metadata": {},
   "outputs": [],
   "source": [
    "# Instalar librosa.\n",
    "!pip install librosa"
   ]
  },
  {
   "cell_type": "code",
   "execution_count": null,
   "metadata": {},
   "outputs": [],
   "source": [
    "from IPython.display import Audio # para reproducir audio en este notebook\n",
    "import librosa # para leer un archivo de audio\n",
    "from librosa import display # para hacer plot de una señal de audio\n",
    "\n",
    "import matplotlib.pyplot as plt\n",
    "import scipy\n",
    "import numpy as np\n",
    "\n",
    "# Configuración de las gráficas\n",
    "from matplotlib import rcParams\n",
    "rcParams['figure.figsize'] = 16, 6\n",
    "rcParams['axes.grid'] = True"
   ]
  },
  {
   "cell_type": "code",
   "execution_count": null,
   "metadata": {},
   "outputs": [],
   "source": [
    "# Leemos un archivo de audio, librosa.load nos devuelve las muestras y la frecuencia de muestreo\n",
    "file_path = 'sample_sound.wav'\n",
    "samples, sampling_rate = librosa.load(file_path, sr = None, mono=True, offset= 0.0, duration = None)"
   ]
  },
  {
   "cell_type": "code",
   "execution_count": null,
   "metadata": {},
   "outputs": [],
   "source": [
    "duration = len(samples) / sampling_rate\n",
    "print(\"El audio tiene una duración de %.2f y está muestreado a fs = %.2f Hz\" % (duration, sampling_rate))"
   ]
  },
  {
   "cell_type": "code",
   "execution_count": null,
   "metadata": {},
   "outputs": [],
   "source": [
    "# Podemos reproducir el auido\n",
    "Audio(file_path)"
   ]
  },
  {
   "cell_type": "code",
   "execution_count": null,
   "metadata": {},
   "outputs": [],
   "source": [
    "# Graficamos la señal en el dominio del tiempo\n",
    "librosa.display.waveplot(y = samples, sr = sampling_rate)\n",
    "plt.xlabel('Tiempo (segundos)')\n",
    "plt.ylabel('Amplitud')\n",
    "plt.show()"
   ]
  },
  {
   "cell_type": "markdown",
   "metadata": {},
   "source": [
    "Para observar su espectro de frecuencias calculamos la transformada discreta de Fourier con las muestras de la señal de audio."
   ]
  },
  {
   "cell_type": "code",
   "execution_count": null,
   "metadata": {},
   "outputs": [],
   "source": [
    "N = len(samples) # número de muestras\n",
    "T = 1/sampling_rate # duración - espaciado de cada muestra\n",
    "yf = fftpack.fft(samples) # transformamos\n",
    "xf = fftpack.fftfreq(N, d=T)\n",
    "plt.plot(xf[:N//2], np.abs(yf[:N//2]), color='green') # solo la primera parte contiene frecuencias positivas\n",
    "\n",
    "plt.xlabel(\"Frecuencia (en Hz)\")\n",
    "plt.ylabel(\"Magnitud\")\n",
    "plt.show()"
   ]
  },
  {
   "cell_type": "markdown",
   "metadata": {},
   "source": [
    "### Espectrograma\n",
    "\n",
    "El espectrograma es una representación visual de las variaciones de la frecuencia en el eje vertical, y de la intensidad del sonido mediante niveles de colores a lo largo del tiempo que se representa en el eje horizontal. \n",
    "\n",
    "**Para la obtención del espectrograma se aplica una transformada de Fourier inicialmente a la señal, mediante el algoritmo de la transformada rápida de Fourier o FF**. \n",
    "\n",
    "Dependiendo del tamaño de la ventana que utilizamos para el análisis de Fourier tendremos diferentes niveles de resolución del espectrograma. \n",
    "\n",
    " - Si se aplica una ventana muy grande obtendremos un espectrograma muy detallado pero a costa de incrementar el tiempo de cálculo necesario para esta operación. \n",
    " - Para el caso de una ventana demasiado pequeña el efecto es el inverso y no seremos capaces de distinguir los diferentes armónicos si están muy juntos en el espectrograma."
   ]
  },
  {
   "cell_type": "code",
   "execution_count": null,
   "metadata": {},
   "outputs": [],
   "source": [
    "_, _, _, im = plt.specgram(samples, Fs=sampling_rate)\n",
    "plt.xlabel(\"Tiempo (en segundos)\")\n",
    "plt.ylabel(\"Frecuencia (en Hz)\")\n",
    "plt.colorbar(im).set_label(\"Intensidad (en dB)\")\n",
    "\n",
    "plt.show()"
   ]
  },
  {
   "cell_type": "markdown",
   "metadata": {},
   "source": [
    "El siguiente es un espectrograma del sonido de un violín. Note como las líneas brillantes en la parte de abajo corresponden a armónicos fundamentales de cada nota y las otras líneas brillantes cercanas son los sobretonos armónicos."
   ]
  },
  {
   "cell_type": "code",
   "execution_count": null,
   "metadata": {},
   "outputs": [],
   "source": [
    "file_path = 'violin.ogg'\n",
    "samples, sampling_rate = librosa.load(file_path, sr = None, mono=True, offset= 0.0, duration = None)\n",
    "Audio(file_path)"
   ]
  },
  {
   "cell_type": "code",
   "execution_count": null,
   "metadata": {},
   "outputs": [],
   "source": [
    "_, _, _, im = plt.specgram(samples, Fs=sampling_rate)\n",
    "plt.xlabel(\"Tiempo (en segundos)\")\n",
    "plt.ylabel(\"Frecuencia (en Hz)\")\n",
    "plt.colorbar(im).set_label(\"Intensidad (en dB)\")\n",
    "\n",
    "plt.show()"
   ]
  },
  {
   "cell_type": "markdown",
   "metadata": {},
   "source": [
    "#### <ins> Problema 3: </ins>\n",
    "\n",
    "Grafique el espectrograma del archivo de audio `problema_3.wav` adjunto con los archivos de este laboratorio, i.e. cargue el archivo de audio, identifique la frecuencia de muestreo, la duración y finalmente grafique su espectrograma."
   ]
  },
  {
   "cell_type": "code",
   "execution_count": null,
   "metadata": {},
   "outputs": [],
   "source": []
  },
  {
   "cell_type": "markdown",
   "metadata": {},
   "source": [
    "<hr>\n",
    "\n",
    "# **Instrucciones Generales**\n",
    "1. Este laboratorio será realizado de manera *individual*.\n",
    "2. **Fecha de entrega**: Lunes 18 de Octubre de 2021. Su solución debe subirla en un archivo ZIP enviado por GES y debe contener el archivo .ipynb con sus respuesta a cada inciso solicitado en cada uno de los *Problemas* indicados en la parte superior."
   ]
  }
 ],
 "metadata": {
  "kernelspec": {
   "display_name": "math",
   "language": "python",
   "name": "math"
  },
  "language_info": {
   "codemirror_mode": {
    "name": "ipython",
    "version": 3
   },
   "file_extension": ".py",
   "mimetype": "text/x-python",
   "name": "python",
   "nbconvert_exporter": "python",
   "pygments_lexer": "ipython3",
   "version": "3.7.4"
  }
 },
 "nbformat": 4,
 "nbformat_minor": 2
}
