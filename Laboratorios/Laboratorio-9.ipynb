{
 "cells": [
  {
   "cell_type": "markdown",
   "metadata": {},
   "source": [
    "# Métodos para la Resolución de Sistemas de Ecuaciones\n",
    "\n",
    "Resolver un sistema de ecuaciones consiste en  encontrar los valores $x_1, x_2, ..., x_n$ que en forma simultánea satisfacen un sistema de ecuaciones:\n",
    "\n",
    "\\begin{array}{lcl}\n",
    "f_1(x_1, x_2, ..., x_n)  & = & 0\\\\\n",
    "f_2x_1, x_2, ..., x_n)  & = & 0\\\\\n",
    " & \\vdots & \\\\\n",
    "f_n(x_1, x_2, ..., x_n)  & = & 0\\\\\n",
    "\\end{array}\n",
    "\n",
    "En este laboratorio resolveremos sistemas de ecuaciones lineales y no lineales.\n",
    "\n",
    "[![Open In Colab](https://colab.research.google.com/assets/colab-badge.svg)](https://colab.research.google.com/github/ivan-jgr/computacion-cientifica/blob/main/Laboratorios/Laboratorio-8.ipynb)"
   ]
  },
  {
   "cell_type": "markdown",
   "metadata": {},
   "source": [
    "## Sistemas de Ecuaciones Lineales\n",
    "\n",
    "Un sistema de ecuaciones lineal se puede representar de forma general como:\n",
    "\n",
    "\n",
    "\\begin{array}{lcl}\n",
    "a_{11}x_1 + a_{12}x_2 + \\cdots + a_{1n}x_n  & = & b_1\\\\\n",
    "a_{21}x_1 + a_{22}x_2 + \\cdots + a_{2n}x_n  & = & b_2\\\\\n",
    " & \\vdots & \\\\\n",
    "a_{n1}x_1 + a_{n2}x_2 + \\cdots + a_{nn}x_n  & = & b_n\\\\\n",
    "\\end{array}\n",
    "\n",
    "donde $a_{mn}$ son coeficientes constantes y $b_n$ son los terminos independientes constantes. Es común emplear la siguiente notación matricial para describir estos sistemas de ecuaciones:\n",
    "$$\\mathbf{A} \\mathbf{x} = \\mathbf{b},$$\n",
    "\n",
    "donde $\\mathbf{A} = \n",
    "\\begin{bmatrix}\n",
    "a_{11} & a_{12} & \\cdots & a_{1n}\\\\\n",
    "a_{21} & a_{22} & \\cdots & a_{2n} \\\\\n",
    "\\vdots && \\vdots \\\\\n",
    " a_{n1} & a_{n2} & \\cdots & a_{nn}\n",
    "\\end{bmatrix}, \\quad \\mathbf{x} = \\begin{bmatrix} x_1 \\\\ x_2 \\\\ \\vdots \\\\ x_n \\end{bmatrix} \\quad \\text{y} \\quad \\mathbf{b} = \\begin{bmatrix}b_1 \\\\b_2 \\\\ \\vdots \\\\b_n \\end{bmatrix}$.\n"
   ]
  },
  {
   "cell_type": "markdown",
   "metadata": {},
   "source": [
    "### Método de Gauss-Jacobi\n",
    "\n",
    "La matriz $A$ puede descomponerse en una matriz diagonal $D$, una matrix triangular inferior $L$ y una matriz triangular superior $U$:\n",
    "\n",
    "$$A=D+L+U$$\n",
    "\n",
    "$$\\text{donde} \\qquad D = \\begin{bmatrix} a_{11} & 0 & \\cdots & 0 \\\\ 0 & a_{22} & \\cdots & 0 \\\\ \\vdots & \\vdots & \\ddots & \\vdots \\\\0 & 0 & \\cdots & a_{nn} \\end{bmatrix} \\text{ y } L+U = \\begin{bmatrix} 0 & a_{12} & \\cdots & a_{1n} \\\\ a_{21} & 0 & \\cdots & a_{2n} \\\\ \\vdots & \\vdots & \\ddots & \\vdots \\\\ a_{n1} & a_{n2} & \\cdots & 0 \\end{bmatrix}$$\n",
    "\n",
    "La solución es obtenida de forma iterativa:\n",
    "\n",
    "$$ \\mathbf{x}^{(k+1)} = D^{-1} (\\mathbf{b} - (L+U) \\mathbf{x}^{(k)})$$\n",
    "\n",
    "#### <ins> Problema 1 </ins>\n",
    "\n",
    "Implementar el método de Jacobi en la función `jacobi`. Los métodos `np.diag`, `np.diagflat` y `np.dot` pueden serle útiles."
   ]
  },
  {
   "cell_type": "code",
   "execution_count": 22,
   "metadata": {},
   "outputs": [
    {
     "data": {
      "text/plain": [
       "array([2., 7.])"
      ]
     },
     "execution_count": 22,
     "metadata": {},
     "output_type": "execute_result"
    }
   ],
   "source": [
    "import numpy as np\n",
    "\n",
    "# Ejemplo de una matrix\n",
    "A = np.array([[2.0,1.0],[5.0,7.0]])\n",
    "# el método np.diag permite obtener los elementos en la diagonal principal de un matriz\n",
    "np.diag(A)"
   ]
  },
  {
   "cell_type": "code",
   "execution_count": 25,
   "metadata": {},
   "outputs": [
    {
     "data": {
      "text/plain": [
       "array([[2., 0.],\n",
       "       [0., 7.]])"
      ]
     },
     "execution_count": 25,
     "metadata": {},
     "output_type": "execute_result"
    }
   ],
   "source": [
    "D = np.diag(A)\n",
    "# el método np.diagflat permite construir una matrix de nxn especificando su diagonal\n",
    "np.diagflat(D)"
   ]
  },
  {
   "cell_type": "code",
   "execution_count": 26,
   "metadata": {},
   "outputs": [
    {
     "data": {
      "text/plain": [
       "array([ 35., 146.])"
      ]
     },
     "execution_count": 26,
     "metadata": {},
     "output_type": "execute_result"
    }
   ],
   "source": [
    "# np.dot le permite multiplicar dos matrices\n",
    "b = b = np.array([11.0,13.0])\n",
    "\n",
    "np.dot(A, b)"
   ]
  },
  {
   "cell_type": "code",
   "execution_count": 27,
   "metadata": {},
   "outputs": [
    {
     "data": {
      "text/plain": [
       "array([ 35., 146.])"
      ]
     },
     "execution_count": 27,
     "metadata": {},
     "output_type": "execute_result"
    }
   ],
   "source": [
    "# también puede multiplicar dos matrices usando @\n",
    "A@b"
   ]
  },
  {
   "cell_type": "code",
   "execution_count": 1,
   "metadata": {},
   "outputs": [],
   "source": [
    "def jacobi(A, b, x0, max_iters):\n",
    "    \"\"\"\n",
    "    Parámetros:\n",
    "    -----------\n",
    "    A: Matriz de coeficientes, asuma que es un numpy array de nxn\n",
    "    b: Matriz de terminos independientes, asuma que es un numpy array de nx1\n",
    "    x0: estimación inicial, asuma que es un numpy array de nx1\n",
    "    max_iter: máximo número de interaciones\n",
    "    \"\"\""
   ]
  },
  {
   "cell_type": "markdown",
   "metadata": {},
   "source": [
    "Ahora usemos su implementación para resolver el siguiente sistema de ecuaciones:\n",
    "\n",
    "\\begin{array}{lcl}\n",
    "10x_1 + 2x_2 – x_3 &=& 27 \\\\\n",
    "–3x_1 – 6x_2 + 2x_3 &=& –61.5 \\\\\n",
    "x_1 + x_2 + 5x_3 &=&  –21.5 \\\\\n",
    "\\end{array}"
   ]
  },
  {
   "cell_type": "code",
   "execution_count": 41,
   "metadata": {},
   "outputs": [
    {
     "name": "stdout",
     "output_type": "stream",
     "text": [
      "A =  [[10.  2. -1.]\n",
      " [-3. -6.  2.]\n",
      " [ 1.  1.  5.]]\n",
      "\n",
      " b = [ 27.  -66.  -21.5]\n",
      "\n",
      "Solución aproximada: [ 0.32871972  8.79411765 -6.12456747]\n"
     ]
    }
   ],
   "source": [
    "# Definimos la matrice de coeficientes\n",
    "A = np.array([[10.0, 2.0, -1.0],[-3.0, -6.0, 2.0], [1.0, 1.0, 5.0]])\n",
    "# Matriz de terminos independientes\n",
    "b = np.array([27.0, -61-5, -21.5])\n",
    "# Estimación inicial de la solución\n",
    "x0 = np.array([1.0,1.0, 1.0])\n",
    "# Numero máximo de iteraciones\n",
    "max_iter = 30\n",
    "\n",
    "sol = jacobi(A, b, x0, max_iter)\n",
    "\n",
    "print(f\"A =  {A}\\n\\n b = {b}\")\n",
    "\n",
    "print(f\"\\nSolución aproximada: {sol}\")"
   ]
  },
  {
   "cell_type": "code",
   "execution_count": 44,
   "metadata": {},
   "outputs": [
    {
     "data": {
      "text/plain": [
       "array([ True,  True,  True])"
      ]
     },
     "execution_count": 44,
     "metadata": {},
     "output_type": "execute_result"
    }
   ],
   "source": [
    "# Verifiquemos que la aproximación\n",
    "np.isclose(A@sol - b, np.zeros(3))"
   ]
  },
  {
   "cell_type": "markdown",
   "metadata": {},
   "source": [
    "### Método de Gauss-Seidel\n",
    "\n",
    "El método de Seidel es muy similar al de Jacobi, pero en este método la matriz $A$ se descompone de la siguiente forma:\n",
    "$$A = L_* + U,$$\n",
    "\n",
    "$$\\text{donde} \\qquad L_* = \\begin{bmatrix} a_{11} & 0 & \\cdots & 0 \\\\ a_{21} & a_{22} & \\cdots & 0 \\\\ \\vdots & \\vdots & \\ddots & \\vdots \\\\a_{n1} & a_{n2} & \\cdots & a_{nn} \\end{bmatrix} \\text{ y } U = \\begin{bmatrix} 0 & a_{12} & \\cdots & a_{1n} \\\\ 0 & 0 & \\cdots & a_{2n} \\\\ \\vdots & \\vdots & \\ddots & \\vdots \\\\ 0 & 0 & \\cdots & 0 \\end{bmatrix}$$\n",
    "\n",
    "La solución es obtenida de forma iterativa:\n",
    "$$\\mathbf{x}^{(k+1)} = L_*^{-1} \\left(\\mathbf{b} - U \\mathbf{x}^{(k)}\\right)$$"
   ]
  },
  {
   "cell_type": "markdown",
   "metadata": {},
   "source": [
    "#### <ins> Problema 2 </ins>\n",
    "\n",
    "Implementar el método de Gauss-Seidel en la función `seidel`."
   ]
  },
  {
   "cell_type": "code",
   "execution_count": 3,
   "metadata": {},
   "outputs": [],
   "source": [
    "def seidel(A, b, x0, max_iters):\n",
    "    \"\"\"\n",
    "    Parámetros:\n",
    "    -----------\n",
    "    A: Matriz de coeficientes, asuma que es un numpy array de nxn\n",
    "    b: Matriz de terminos independientes, asuma que es un numpy array de nx1\n",
    "    x0: estimación inicial, asuma que es un numpy array de nx1\n",
    "    max_iter: máximo número de interaciones\n",
    "    \"\"\""
   ]
  },
  {
   "cell_type": "markdown",
   "metadata": {},
   "source": [
    "Resolvamos el mismo sistema de ecuaciiones que en el problema anterior."
   ]
  },
  {
   "cell_type": "code",
   "execution_count": 49,
   "metadata": {},
   "outputs": [
    {
     "name": "stdout",
     "output_type": "stream",
     "text": [
      "A =  [[10.  2. -1.]\n",
      " [-3. -6.  2.]\n",
      " [ 1.  1.  5.]]\n",
      "\n",
      " b = [ 27.  -66.  -21.5]\n",
      "\n",
      "Solución aproximada: [ 0.32871972  8.79411765 -6.12456747]\n"
     ]
    }
   ],
   "source": [
    "# Definimos la matrice de coeficientes\n",
    "A = np.array([[10.0, 2.0, -1.0],[-3.0, -6.0, 2.0], [1.0, 1.0, 5.0]])\n",
    "# Matriz de terminos independientes\n",
    "b = np.array([27.0, -61-5, -21.5])\n",
    "# Estimación inicial de la solución\n",
    "x0 = np.array([1.0,1.0, 1.0])\n",
    "# Numero máximo de iteraciones\n",
    "max_iter = 30\n",
    "\n",
    "sol = seidel(A, b, x0, max_iter)\n",
    "\n",
    "print(f\"A =  {A}\\n\\n b = {b}\")\n",
    "\n",
    "print(f\"\\nSolución aproximada: {sol}\")"
   ]
  },
  {
   "cell_type": "markdown",
   "metadata": {},
   "source": [
    "## Sistemas de Ecuaciones No Lineales\n",
    "\n",
    "Decimos que un sistema de ecuaciones es no-lineal cuando al menos una de las ecuaciones del sistema es no lineal. El método del punto fijo y el de Newton-Raphson puede extenderse para este tipo de sistemas.\n",
    "\n",
    "El método de Newton-Raphson para sistemas de ecuaciones no lineales puede deducirse en forma similar al método para una variable, usando la expansion en serie de Taylor multivariable obtenemos la fórmula de Newton-Raphson multivariable:\n",
    "\n",
    "$$\\mathbf{x}^{(k+1)} = \\mathbf{x}^{(k)} - \\mathbf{J}(\\mathbf{x}^{(k)})^{-1} \\mathbf{f}(\\mathbf{x}^{(k)},$$\n",
    "\n",
    "donde $\\mathbf{J}$ es la matriz jacobiana:\n",
    "\n",
    "$$\\mathbf{J} = \\begin{bmatrix}\n",
    "    \\cfrac{\\partial f_1}{\\partial x_1} & \\cdots & \\cfrac{\\partial f_1}{\\partial x_n} \\\\\n",
    "    \\vdots & \\ddots & \\vdots \\\\\n",
    "    \\cfrac{\\partial f_m}{\\partial x_1} & \\cdots & \\cfrac{\\partial f_m}{\\partial x_n} \n",
    "\\end{bmatrix}$$\n",
    "\n",
    "Calcular $\\mathbf{J}^{-1}$ puede ser problematico en muchos casos, por lo que existe un método conocido como Newton–Krylov que emplea otro método para calcular el jacobiano inverso.\n",
    "\n",
    "`scipy` posee una implementación del método de Newton-Krylov en el paquete `optimize` llamado `newton_krylov`. Usemos este método para resolver el siguiente sistema de ecuaciones:\n",
    "\n",
    "$$\n",
    "\\begin{array}{lcl}\n",
    "u + 0.5v &=& 1 \\\\\n",
    "-0.5u^2 + 0.5v^2 &=& 0\n",
    "\\end{array}$$"
   ]
  },
  {
   "cell_type": "code",
   "execution_count": 50,
   "metadata": {},
   "outputs": [],
   "source": [
    "# Note que defimos la función de tal forma que recive un arreglo\n",
    "def fun(x):\n",
    "    return [x[0] + 0.5 * x[1] - 1.0,\n",
    "\n",
    "            0.5 * (x[1] - x[0]) ** 2]"
   ]
  },
  {
   "cell_type": "code",
   "execution_count": 51,
   "metadata": {},
   "outputs": [
    {
     "name": "stdout",
     "output_type": "stream",
     "text": [
      "0:  |F(x)| = 0.5; step 1\n",
      "1:  |F(x)| = 0.125; step 1\n",
      "2:  |F(x)| = 0.03125; step 1\n",
      "3:  |F(x)| = 0.0078125; step 1\n",
      "4:  |F(x)| = 0.00195313; step 1\n",
      "5:  |F(x)| = 0.000488282; step 1\n",
      "6:  |F(x)| = 0.00012207; step 1\n",
      "7:  |F(x)| = 3.05177e-05; step 1\n",
      "8:  |F(x)| = 7.62943e-06; step 1\n",
      "9:  |F(x)| = 1.90737e-06; step 1\n"
     ]
    },
    {
     "data": {
      "text/plain": [
       "array([0.66731771, 0.66536458])"
      ]
     },
     "execution_count": 51,
     "metadata": {},
     "output_type": "execute_result"
    }
   ],
   "source": [
    "from scipy import optimize\n",
    "\n",
    "x0 = np.array([0., 0.])\n",
    "sol = optimize.newton_krylov(fun, x0, verbose=True)\n",
    "\n",
    "sol"
   ]
  },
  {
   "cell_type": "markdown",
   "metadata": {},
   "source": [
    "#### <ins> Problema 3 </ins>\n",
    "\n",
    "Determine las raíce de las siguientes ecuaciones no lineales utilizando el método de Newton-Krylov:\n",
    "\n",
    "\\begin{array}{lcl}\n",
    "y &=& -x^2 + x + 0.75\\\\\n",
    "x^2 &=& y + 5xy\n",
    "\\end{array}\n",
    "\n",
    "Utilíce como estimaciones iniciales $x = y = 1.2$."
   ]
  },
  {
   "cell_type": "code",
   "execution_count": null,
   "metadata": {},
   "outputs": [],
   "source": [
    "# Resuelva aquí el problema 3"
   ]
  },
  {
   "cell_type": "markdown",
   "metadata": {},
   "source": [
    "<hr>\n",
    "\n",
    "# **Instrucciones Generales**\n",
    "1. Este laboratorio será realizado de manera *individual*.\n",
    "2. **Fecha de entrega**: Lunes 01 de Noviembre de 2021. Su solución debe subirla en un archivo ZIP enviado por GES y debe contener el archivo .ipynb con sus respuesta a cada inciso solicitado en cada uno de los *Problemas* indicados en la parte superior."
   ]
  }
 ],
 "metadata": {
  "kernelspec": {
   "display_name": "math",
   "language": "python",
   "name": "math"
  },
  "language_info": {
   "codemirror_mode": {
    "name": "ipython",
    "version": 3
   },
   "file_extension": ".py",
   "mimetype": "text/x-python",
   "name": "python",
   "nbconvert_exporter": "python",
   "pygments_lexer": "ipython3",
   "version": "3.7.4"
  }
 },
 "nbformat": 4,
 "nbformat_minor": 2
}
