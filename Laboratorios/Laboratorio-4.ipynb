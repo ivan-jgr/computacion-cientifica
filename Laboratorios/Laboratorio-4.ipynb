{
 "cells": [
  {
   "cell_type": "markdown",
   "metadata": {},
   "source": [
    "# Series de Fourier en Forma Compleja\n",
    "\n",
    "[![Open In Colab](https://colab.research.google.com/assets/colab-badge.svg)](https://colab.research.google.com/github/ivan-jgr/computacion-cientifica/blob/main/Laboratorios/Laboratorio-4.ipynb)\n",
    "\n",
    "Definimos la serie de Fourier de una función periodica $f(t)$ de la siguiente forma:\n",
    "\n",
    "$$\n",
    "\\hat{f}(t) = \\sum_{n = -\\infty}^\\infty c_n e^{i \\omega_n t},\n",
    "$$\n",
    "\n",
    "donde $c_n = \\displaystyle \\dfrac{1}{2L} \\int_{-L}^L f(t) e^{-i \\omega_n t} dt$.\n",
    "\n",
    "En este laboratorio utilizaremos la librería `cmath` para manipular numeros complejos, calcular la serie de Fourier en forma compleja y utilizarla para resolver ecuaciones diferenciales ordinarias."
   ]
  },
  {
   "cell_type": "code",
   "execution_count": 1,
   "metadata": {},
   "outputs": [],
   "source": [
    "import cmath # Libreria para manipular complejos"
   ]
  },
  {
   "cell_type": "markdown",
   "metadata": {},
   "source": [
    "Para crear un número complejo $z = a + jb$ (note que se usa $j$ para representar la unidad imaginaria) hacemos `z = complex(a, b)`"
   ]
  },
  {
   "cell_type": "markdown",
   "metadata": {},
   "source": [
    "### Aritmética de Complejos"
   ]
  },
  {
   "cell_type": "code",
   "execution_count": 2,
   "metadata": {},
   "outputs": [
    {
     "name": "stdout",
     "output_type": "stream",
     "text": [
      "La parte real de z es: 3.0\n",
      "La parte imaginaria de z es: 2.0\n",
      "El módulo de w es: 2.23606797749979\n",
      "El argumento de z es: 0.5880026035475675\n",
      "El resultado de z + w es: (4+0j)\n",
      "El resultado de zw es: (7-4j)\n"
     ]
    }
   ],
   "source": [
    "z = complex(3, 2) # creamos el complejo 3 + 2j\n",
    "w = complex(1, -2) # creamos el complejo 1 - 2j\n",
    "\n",
    "# puede obtener a la parte real de un complejo z haciendo z.real\n",
    "print(f\"La parte real de z es: {z.real}\") \n",
    "# puede obtener a la parte imaginaria de un complejo z haciendo z.imag\n",
    "print(f\"La parte imaginaria de z es: {z.imag}\")\n",
    "# Puede calcular el módulo de un complejo w haciendo abs(w)\n",
    "print(f\"El módulo de w es: {abs(w)}\")\n",
    "# Puede calcular el argumento (en radianes) de un complejo z haciendo phase(z)\n",
    "print(f\"El argumento de z es: {cmath.phase(z)}\")\n",
    "# puede sumar, restar, multiplicar  dividir complejo\n",
    "print(f\"El resultado de z + w es: {z + w}\")\n",
    "print(f\"El resultado de zw es: {z*w}\")"
   ]
  },
  {
   "cell_type": "code",
   "execution_count": 3,
   "metadata": {},
   "outputs": [
    {
     "name": "stdout",
     "output_type": "stream",
     "text": [
      "El conjugado de  (3+2j) es (3-2j)\n",
      "Complejo dn = (3+2j)\n"
     ]
    }
   ],
   "source": [
    "cn = complex(3, 2) # Creamos el complejo 3 + 2j\n",
    "cn_conjugado = complex(cn.real, -cn.imag) # su conjugado\n",
    "print('El conjugado de  {} es {}'.format(cn, cn_conjugado))\n",
    "\n",
    "# También podemos crear complejos de la siguiente forma\n",
    "j = complex(0, 1)\n",
    "dn = 3 + 2*j # cuidado con redefinir j\n",
    "\n",
    "print('Complejo dn = {}'.format(dn))"
   ]
  },
  {
   "cell_type": "markdown",
   "metadata": {},
   "source": [
    "### Serie de Fourier en Forma Compleja\n",
    "\n",
    "#### <ins> Problema 1 </ins>\n",
    "\n",
    "1. Implemente la función `cn(f, L, n)` que calcula en coeficiente de la serie Compleja de Fourier:\n",
    "\\begin{equation}c_n = \\dfrac{1}{2L} \\int_{-L}^L f(t) e^{-i \\omega_n t} dt. \\label{cn} \\tag{1} \\end{equation}\n",
    "\n",
    " Recuerde que si $f(t)$ es compleja, i.e. es de la forma $f(t) = u(t) + i v(t)$, entonces: $$\\int f(t) dt = \\int \\operatorname{Re}(f(t)) dt + i \\int \\operatorname{Im}(f(t)) dt$$\n",
    "\n",
    " Es decir que puede integrar la parte real del integrado, luego la parte imaginaria y luego formar el complejo resulte. El método `quad` que hemos usado para integrar **no** puede manejar terminos complejos, por lo que deberá integrar por separado las partes real e imaginaria de \\eqref{cn}.\n",
    "\n",
    "\n",
    "2. Implemente la función `Sn(f, L, N)` que calcula la $N$-ésima suma parcial de Fourier:\n",
    "$$S_N (t) = \\sum_{n = -N}^N c_n e^{i \\omega_n t}.$$"
   ]
  },
  {
   "cell_type": "code",
   "execution_count": 18,
   "metadata": {},
   "outputs": [],
   "source": [
    "# la función exponencial la puede encontrar como np.exp y sí acepta valores complejos\n",
    "import numpy as np\n",
    "from scipy.integrate import quad\n",
    "\n",
    "def cn(f, L, n):\n",
    "    \"\"\"\n",
    "    Calcula el coeficiente cn para la serie de Fourier compleja.\n",
    "    \n",
    "    :param f: es la una función\n",
    "    :param L: es el semiperíodo de f\n",
    "    :param n: es un entero (positivo o negativo)\n",
    "    \n",
    "    returns: el coeficiente cn de Fourier descrito por la formula anterior.\n",
    "    \"\"\"\n",
    "    pass"
   ]
  },
  {
   "cell_type": "code",
   "execution_count": 19,
   "metadata": {},
   "outputs": [],
   "source": [
    "def Sn(f, L, N):\n",
    "    \"\"\"\n",
    "    Devuelve la suma parcial de Fourier.\n",
    "    \"\"\"\n",
    "    pass"
   ]
  },
  {
   "cell_type": "code",
   "execution_count": 6,
   "metadata": {},
   "outputs": [
    {
     "data": {
      "text/plain": [
       "array([-8.20588570e-18, -1.65326325e-03, -5.27721283e-04,  1.48481473e-03,\n",
       "        1.00167383e-03, -1.16508065e-03, -1.37356733e-03,  7.26638248e-04,\n",
       "        1.60551011e-03, -2.14159758e-04, -1.67386986e-03, -3.20139149e-04,\n",
       "        1.57168151e-03,  8.21819557e-04, -1.30935688e-03, -1.23976600e-03,\n",
       "        9.13623833e-04,  1.53139453e-03, -4.24803019e-04, -1.66699157e-03,\n",
       "       -1.07300339e-04,  1.63274132e-03,  6.28471027e-04, -1.43213350e-03,\n",
       "       -1.08560774e-03,  1.08560774e-03,  1.43213350e-03, -6.28471027e-04,\n",
       "       -1.63274132e-03,  1.07300339e-04,  1.66699157e-03,  4.24803019e-04,\n",
       "       -1.53139453e-03, -9.13623833e-04,  1.23976600e-03,  1.30935688e-03,\n",
       "       -8.21819557e-04, -1.57168151e-03,  3.20139149e-04,  1.67386986e-03,\n",
       "        2.14159758e-04, -1.60551011e-03, -7.26638248e-04,  1.37356733e-03,\n",
       "        1.16508065e-03, -1.00167383e-03, -1.48481473e-03,  5.27721283e-04,\n",
       "        1.65326325e-03,  8.20588570e-18])"
      ]
     },
     "execution_count": 6,
     "metadata": {},
     "output_type": "execute_result"
    }
   ],
   "source": [
    "# Verifiquemos que Sn nos devuelva complejos con parte imaginaria igual a cero\n",
    "f_test = lambda x: abs(x)\n",
    "\n",
    "f_test_serie = Sn(f_test, 1, 10)\n",
    "\n",
    "t = np.linspace(-1, 1)\n",
    "\n",
    "f_test_serie(t).imag"
   ]
  },
  {
   "cell_type": "markdown",
   "metadata": {},
   "source": [
    "Note que la parte imaginaria de todos los valores valuados en la serie es cero (o muy cercana a cero por la precisión del metodo `quad`) ¿Por qué?"
   ]
  },
  {
   "cell_type": "code",
   "execution_count": 7,
   "metadata": {},
   "outputs": [
    {
     "data": {
      "text/plain": [
       "[<matplotlib.lines.Line2D at 0x7fc67ececbd0>]"
      ]
     },
     "execution_count": 7,
     "metadata": {},
     "output_type": "execute_result"
    }
   ],
   "source": [
    "import matplotlib.pyplot as plt\n",
    "from matplotlib import rcParams\n",
    "\n",
    "rcParams['figure.figsize'] = 10, 6\n",
    "plt.style.use('seaborn-whitegrid')\n",
    "\n",
    "t = np.linspace(-2, 2, 500)\n",
    "plt.plot(t, f_test_serie(t).real) # Note que graficamos valores reales\n",
    "plt.show()"
   ]
  },
  {
   "cell_type": "markdown",
   "metadata": {},
   "source": [
    "## Serie Compleja de Fourier para resolver EDOs\n",
    "\n",
    "Nuestro objetivo es resolver la ecuación diferencial (encontrar la solución al estado estable para la carga $q(t)$) para un circuito RLC con una fuente de voltaje descrito por una función periódica $v(t)$:\n",
    "\n",
    "<img src=\"https://github.com/ivan-jgr/computacion-cientifica/blob/main/misc/RLC.png?raw=true\"/>\n",
    "\n",
    "La carga en el capacitor está modelada por la ecuación:\n",
    "\\begin{equation} L \\frac{d^2q}{dt^2} + R\\frac{dq}{dt} + \\frac{1}{C} q = v(t). \\label{eq:edo} \\tag{1}\\end{equation}\n",
    "\n",
    "Podemos expandir $v(t)$ en su serie compleja de Fourier: $v(t) = \\displaystyle\\sum_{n = -\\infty}^\\infty c_n e^{i \\omega_n t}$ y al usar el principio de superposición resolver\n",
    "$$ L \\frac{d^2q}{dt^2} + R\\frac{dq}{dt} + \\frac{1}{C} q = e^{i \\omega_n t},$$\n",
    "\n",
    "que podemos resolver usando coeficientes indeterminados:\n",
    "\n",
    "- Proponemos $q_n(t) = A_n e^{i \\omega_n t}$ y obtendremos que $A_n = \\dfrac{C}{(1-LC\\omega_n^2) + RC\\omega_n i}$\n",
    "\n",
    "Por simplicidad asumamos que $f(t)$ tiene período $T = 2 \\pi$ y entonces:\n",
    "\n",
    "$$A_n = \\dfrac{C}{(1-LCn^2) + RCn i}.$$\n",
    "\n",
    "La solución a la ecuación $\\eqref{eq:edo}$ es entonces:\n",
    "\n",
    "$$q(t) = \\sum_{n = -\\infty}^\\infty c_n A_n e^{i \\omega_n t} = \\sum_{n = - \\infty}^\\infty c_n \\dfrac{C}{(1-LCn^2) + RCn i} e^{i n t}.$$"
   ]
  },
  {
   "cell_type": "code",
   "execution_count": 8,
   "metadata": {},
   "outputs": [
    {
     "name": "stdout",
     "output_type": "stream",
     "text": [
      "El coeficiente A3 = (-0.1095890410958904-0.0410958904109589j)\n"
     ]
    }
   ],
   "source": [
    "# valores de L, R, C\n",
    "L, R, C = 1, 1, 1\n",
    "\n",
    "def An(n):\n",
    "    # denominador de An\n",
    "    den = complex(1-L*C*n**2, R*C*n)\n",
    "    return C / den\n",
    "\n",
    "print(f\"El coeficiente A3 = {An(3)}\")"
   ]
  },
  {
   "cell_type": "code",
   "execution_count": 9,
   "metadata": {},
   "outputs": [],
   "source": [
    "def f(t):\n",
    "    if t > 0:\n",
    "        return 1\n",
    "    else: \n",
    "        return -1\n",
    "\n",
    "# Terminos de la serie\n",
    "N = 30\n",
    "    \n",
    "q_sol = lambda x: sum([cn(f, np.pi, k)*An(k)*np.exp(-j*k*x) for k in range(-N-1, N+1)])"
   ]
  },
  {
   "cell_type": "code",
   "execution_count": 10,
   "metadata": {},
   "outputs": [
    {
     "data": {
      "image/png": "[encoded data removed]",
      "text/plain": [
       "<Figure size 720x432 with 1 Axes>"
      ]
     },
     "metadata": {
      "needs_background": "light"
     },
     "output_type": "display_data"
    }
   ],
   "source": [
    "rcParams['figure.figsize'] = 10, 6\n",
    "\n",
    "v = Sn(f, np.pi, 30)\n",
    "\n",
    "t = np.linspace(0, 6*np.pi, 200)\n",
    "plt.plot(t, v(t).real, label='$v(t)$', color='green')\n",
    "\n",
    "plt.plot(t, q_sol(t).real, label='$q(t)$', color='red')\n",
    "\n",
    "plt.xlabel('Tiempo en segundos')\n",
    "plt.legend()\n",
    "plt.show()"
   ]
  },
  {
   "cell_type": "code",
   "execution_count": 12,
   "metadata": {},
   "outputs": [
    {
     "data": {
      "application/vnd.jupyter.widget-view+json": {
       "model_id": "98ebf3f6da8949c7b23c2259d07c2568",
       "version_major": 2,
       "version_minor": 0
      },
      "text/plain": [
       "interactive(children=(FloatSlider(value=0.01, description='tmax', max=50.0, min=0.01, step=0.5), Output()), _d…"
      ]
     },
     "metadata": {},
     "output_type": "display_data"
    }
   ],
   "source": [
    "# Veamos como evoluciona la solución al variar el tiempo\n",
    "from ipywidgets import interact, FloatSlider\n",
    "rcParams['figure.figsize'] = 10, 6\n",
    "\n",
    "def plot_sol(tmax):\n",
    "    t = np.linspace(0, tmax, 200)\n",
    "    plt.plot(t, q_sol(t).real, label='$q(t)$', color='red')\n",
    "    plt.plot(t, v(t).real, label='$v(t)$', color='green')\n",
    "    plt.scatter(tmax, q_sol(tmax).real, color='red')\n",
    "\n",
    "    plt.ylim(-2, 2)\n",
    "    plt.xlabel('Tiempo en segundos')\n",
    "    plt.legend(loc='upper left')\n",
    "    plt.show()\n",
    "    \n",
    "interact(plot_sol, tmax= FloatSlider(min = 0.01, max = 50, step=0.5));"
   ]
  },
  {
   "cell_type": "code",
   "execution_count": 13,
   "metadata": {},
   "outputs": [
    {
     "data": {
      "application/vnd.jupyter.widget-view+json": {
       "model_id": "d4a448d2ef694fbd82376b29bfd685ae",
       "version_major": 2,
       "version_minor": 0
      },
      "text/plain": [
       "interactive(children=(FloatSlider(value=22.0, description='tmax', max=50.0, min=0.01, step=0.5), Output()), _d…"
      ]
     },
     "metadata": {},
     "output_type": "display_data"
    }
   ],
   "source": [
    "from matplotlib import rcParams\n",
    "rcParams['figure.figsize'] = 12, 8\n",
    "\n",
    "def plot_sol(tmax):\n",
    "    t = np.linspace(0, tmax, 200)\n",
    "    \n",
    "    ###########################################\n",
    "    # fila 1 columna 1: Gráfica de la entrada\n",
    "    plt.subplot(4, 2, 1)\n",
    "    plt.plot(t, v(t).real, label='$v(t)$', color='green')\n",
    "    \n",
    "    plt.ylim(-2, 2)\n",
    "    plt.legend(loc='upper left')\n",
    "    \n",
    "    # fila 1 columna 2: Gráfica de la salida\n",
    "    plt.subplot(4, 2, 2)\n",
    "    plt.plot(t, q_sol(t).real, label='$q(t)$', color='red')\n",
    "    \n",
    "    plt.ylim(-2, 2)\n",
    "    plt.legend(loc='upper left')\n",
    "    \n",
    "    ###########################################\n",
    "    # fila 2 columna 1: Primer armónico\n",
    "    plt.subplot(4, 2, 3)\n",
    "    \n",
    "    v1 = cn(f, np.pi, 1)*np.exp(-j*1*t) + cn(f, np.pi, -1)*np.exp(-j*(-1)*t) \n",
    "    plt.plot(t, v1.real, label='primer armónico', color='blue')\n",
    "    \n",
    "    plt.ylim(-2, 2)\n",
    "    plt.legend(loc='upper left')\n",
    "    \n",
    "     # fila 2 columna 2: Solucion al primer armónico\n",
    "    plt.subplot(4, 2, 4)\n",
    "    \n",
    "    q1 = cn(f, np.pi, 1)*An(1)*np.exp(-j*1*t) + cn(f, np.pi, -1)*An(-1)*np.exp(-j*(-1)*t) \n",
    "    plt.plot(t, q1.real, label='$q_1(t)$', color='orange')\n",
    "    \n",
    "    plt.ylim(-2, 2)\n",
    "    plt.legend(loc='upper left')\n",
    "    \n",
    "    \n",
    "    ###########################################\n",
    "     # fila 3 columna 2: Tercer armónico\n",
    "    plt.subplot(4, 2, 5)\n",
    "    \n",
    "    v3 = cn(f, np.pi, 3)*np.exp(-j*3*t) + cn(f, np.pi, -3)*np.exp(-j*(-3)*t) \n",
    "    plt.plot(t, v3.real, label='tercer armónico', color='black')\n",
    "    \n",
    "    plt.ylim(-2, 2)\n",
    "    plt.legend(loc='upper left')\n",
    "    \n",
    "    # fila 3 columna 2: Solucion al tercer armónico\n",
    "    plt.subplot(4, 2, 6)\n",
    "    \n",
    "    q3 = cn(f, np.pi, 3)*An(3)*np.exp(-j*3*t) + cn(f, np.pi, -3)*An(-3)*np.exp(-j*(-3)*t) \n",
    "    plt.plot(t, q3.real, label='$q_5(t)$', color='gray')\n",
    "    \n",
    "    plt.ylim(-2, 2)\n",
    "    plt.legend(loc='upper left')\n",
    "    \n",
    "    ###########################################\n",
    "    # fila 4 columna 1: Quinto armonico\n",
    "    plt.subplot(4, 2, 7)\n",
    "    \n",
    "    v5 = cn(f, np.pi, 5)*np.exp(-j*5*t) + cn(f, np.pi, -5)*np.exp(-j*(-5)*t) \n",
    "    plt.plot(t, v5.real, label='quinto armónico', color='y')\n",
    "    \n",
    "    plt.ylim(-2, 2)\n",
    "    plt.legend(loc='upper left')\n",
    "    \n",
    "    # fila 4 columna 2: Solucion al quinto armonico\n",
    "    plt.subplot(4, 2, 8)\n",
    "    \n",
    "    q5 = cn(f, np.pi, 5)*An(5)*np.exp(-j*5*t) + cn(f, np.pi, -5)*An(-5)*np.exp(-j*(-5)*t)\n",
    "    plt.plot(t, q5.real, label='$q_5(t)$', color='c')\n",
    "    \n",
    "    plt.ylim(-2, 2)\n",
    "    plt.legend(loc='upper left')\n",
    "   \n",
    "   \n",
    "    \n",
    "interact(plot_sol, tmax= FloatSlider(min = 0.01, max = 50, step=0.5, value=22));"
   ]
  },
  {
   "cell_type": "markdown",
   "metadata": {},
   "source": [
    "Las gráficas anteriores muestran la respuesta a $v(t)$ en la primera fila y luego las respuestas al primer, tercer y quinto armónico. La serie de Fourier nos permite ver como responde el circuito a los componentes de frecuencia específicos en la función de entrada como si fuera un prima que nos permite descomponer la solución $q(t)$ en las respuestas a cada componente de frecuencia presente en $v(t)$.\n",
    "\n",
    "Además, note la diferencia en amplitud para $q_1(t)$ con respecto a los otros armónicos. ¿Puede explicar por qué la amplitud de este armónico es mayor que el resto?"
   ]
  },
  {
   "cell_type": "markdown",
   "metadata": {},
   "source": [
    "#### <ins> Problema 2 </ins>\n",
    "\n",
    "Considere el siguiente sistema masa-resorte:\n",
    "\n",
    "<img src=\"https://github.com/ivan-jgr/computacion-cientifica/blob/main/misc/mass_spring.png?raw=true\"/>\n",
    "\n",
    "se aplica una fuerza externa periódica dada por $f(t) = \\left| \\sin t \\right|$ con período $T = 2 \\pi$.\n",
    "1. Encuentre la respuesta (solución al estado estable) para la posición de la masa $x(t)$ usando superposición con $\\operatorname{N} = 30$ terminos para la serie.\n",
    " - $m$ es la mada del bloque\n",
    " - $b$ es la constante de amortigüamiento viscoso\n",
    " - $k$ es la constante del resorte\n",
    "\n",
    "2. Encuentre una expresión en forma de serie para $v(t) = \\dfrac{dx}{dt} = \\dfrac{d}{dt} \\displaystyle \\left( \\sum_{n = -\\infty}^\\infty c_n A_n e^{i \\omega_n t} \\right)$, i.e. derívela término por término.\n",
    "\n",
    "3. Genere gráficas para $x(t), v(t)$ y $f(t)$.\n",
    "\n",
    "\n",
    "4. Grafique la solución para el segundo y cuarto armónico."
   ]
  },
  {
   "cell_type": "code",
   "execution_count": 16,
   "metadata": {},
   "outputs": [],
   "source": [
    "# Defina la función den entrada f(t)\n",
    "def f(t):\n",
    "    pass\n",
    "\n",
    "# Encuentre la expansion en serie de f(t) y guardela en la variable f_hat\n",
    "f_hat = None\n",
    "\n",
    "# Utilíce coeficientes indeterminados y encuentre la solucion al estado estable para la posición de la masa\n",
    "# Encuentre el coeficiente An como en el ejemplo mostrado\n",
    "def An(n):\n",
    "    pass\n",
    "\n",
    "\n",
    "N = 30\n",
    "# Escriba la solución como usa serie compleja (desde -N hasta N)\n",
    "x_sol = None\n",
    "\n",
    "# Escriba v(t) en forma de serie\n",
    "v_sol = None"
   ]
  },
  {
   "cell_type": "code",
   "execution_count": null,
   "metadata": {},
   "outputs": [],
   "source": [
    "# Grafique f(t) junto con x_sol(t) y v_sol(t) en el intervalo [0, 50]\n"
   ]
  },
  {
   "cell_type": "markdown",
   "metadata": {},
   "source": [
    "<hr>\n",
    "\n",
    "# **Instrucciones Generales**\n",
    "1. Este laboratorio será realizado de manera *individual*.\n",
    "2. **Fecha de entrega**: Viernes 12 de Agosto de 2021. Su solución debe subirla en un archivo ZIP enviado por GES y debe contener el archivo .ipynb con sus respuesta a cada inciso solicitado en cada uno de los *Problemas* indicados en la parte superior."
   ]
  }
 ],
 "metadata": {
  "kernelspec": {
   "display_name": "math",
   "language": "python",
   "name": "math"
  },
  "language_info": {
   "codemirror_mode": {
    "name": "ipython",
    "version": 3
   },
   "file_extension": ".py",
   "mimetype": "text/x-python",
   "name": "python",
   "nbconvert_exporter": "python",
   "pygments_lexer": "ipython3",
   "version": "3.7.4"
  }
 },
 "nbformat": 4,
 "nbformat_minor": 2
}
