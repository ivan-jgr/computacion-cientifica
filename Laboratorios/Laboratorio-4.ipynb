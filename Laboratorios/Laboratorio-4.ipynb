{
 "cells": [
  {
   "cell_type": "markdown",
   "metadata": {
    "id": "0R6kWp-n-7A9"
   },
   "source": [
    "![MAP1.png](https://drive.google.com/uc?export=view&id=1ueUjERre_-lA10at-iqyItiVmZEnPNsp)\n"
   ]
  },
  {
   "cell_type": "markdown",
   "metadata": {
    "id": "MnmRCcKo7-am"
   },
   "source": [
    "# Ondas de Sonido y Series de Fourier\n",
    "\n",
    "[![Open In Colab](https://colab.research.google.com/assets/colab-badge.svg)](https://colab.research.google.com/github/ivan-jgr/computacion-cientifica/blob/main/Laboratorios/Laboratorio-4.ipynb)\n",
    "\n",
    "Lo que percibimos como sonido no es la presión del aire en sí, sino cambios rápidos en la presión del aire que hacen que nuestros tímpanos vibren. Por ejemplo, una cuerda vibrante hace que el aire a su alrededor cambie rápidamente de presión, y los cambios de presión se propagan a través del aire como ondas sonoras hasta que llegan al oído. En ese punto, el tímpano vibra al mismo ritmo y percibe un sonido.\n",
    "\n",
    "Puede pensar en un archivo digital de audio como una función que describe una vibración sobre el tiempo. Un software de audio interpretan esta función e indican a las bocinas la forma de vibrar para producir ondas de sonido en el aire alrededor.\n",
    "\n",
    "<img src='https://github.com/ivan-jgr/computacion-cientifica/blob/main/misc/sound.png?raw=true' width=500px/>\n",
    "\n",
    "Para nuestro análisis no importa exactamente lo que la función representa, pero lo podemos intepretar como la presión del aire vs tiempo.\n"
   ]
  },
  {
   "cell_type": "markdown",
   "metadata": {
    "id": "raiyZ2sn7-ay"
   },
   "source": [
    "## Produciendo sonido\n",
    "Usaremos algunas convenciones comunmente usadas en audio CD. Especificamente representaremos un segundo de audio con un arreglo de $44100$ (profundizaremos en esto al hablar de la transformada de Fourier) valores, cada uno como un entero de 16 bits (entre -32768 y 32767). Estos números representarán la intensidad del sonido para cada \"paso\" de tiempo, con 44100 pasos en un segundo."
   ]
  },
  {
   "cell_type": "code",
   "execution_count": null,
   "metadata": {
    "id": "h5T5ovQx7-ay"
   },
   "outputs": [],
   "source": [
    "# Necesitamos instalar la librería pygame\n",
    "!pip install pygame"
   ]
  },
  {
   "cell_type": "code",
   "execution_count": null,
   "metadata": {
    "id": "wp_jI--97-ay"
   },
   "outputs": [],
   "source": [
    "import pygame, pygame.sndarray\n",
    "\n",
    "pygame.mixer.init(frequency=44100, size=-16, channels=1);"
   ]
  },
  {
   "cell_type": "markdown",
   "metadata": {
    "id": "2DSe5B6z7-az"
   },
   "source": [
    "Empecemos con el ejemplo más simple: generar un segundo de audio creando un arreglo numpy de 44100 numeros aleatorios entre -32768 y 32767."
   ]
  },
  {
   "cell_type": "code",
   "execution_count": null,
   "metadata": {
    "id": "eo88F2pc7-az"
   },
   "outputs": [],
   "source": [
    "rcParams['figure.figsize'] = 10, 5\n",
    "import numpy as np\n",
    "arr = np.random.randint(-32768, 32767, size=44100, dtype=\"int16\")\n",
    "\n",
    "# Veamos algunos terminos\n",
    "plt.plot(arr[:1000])"
   ]
  },
  {
   "cell_type": "code",
   "execution_count": null,
   "metadata": {
    "id": "svGhDwG87-az"
   },
   "outputs": [],
   "source": [
    "sound = pygame.sndarray.make_sound(arr)\n",
    "sound.play();"
   ]
  },
  {
   "cell_type": "markdown",
   "metadata": {
    "id": "Y3PRy1m47-az"
   },
   "source": [
    "Cuando escuchamos una nota musical, nuestros oidos detectan un patron de vibraciones en contraste con el ruido aleatorio. Podemos generar 44100 numeros con un patron especifico."
   ]
  },
  {
   "cell_type": "code",
   "execution_count": null,
   "metadata": {
    "id": "gVb6Cqgt7-az"
   },
   "outputs": [],
   "source": [
    "form = np.repeat([10000,-10000],50)\n",
    "plt.plot(form)\n",
    "plt.show()"
   ]
  },
  {
   "cell_type": "code",
   "execution_count": null,
   "metadata": {
    "id": "WA9yQCmG7-a0"
   },
   "outputs": [],
   "source": [
    "# Repitamos los 100 numeros anteriore 441 veces para tener los 44100 valores\n",
    "arr = np.tile(form, 441)\n",
    "arr = arr.astype(\"int16\")\n",
    "\n",
    "plt.plot(arr[:1000])\n",
    "plt.show()"
   ]
  },
  {
   "cell_type": "markdown",
   "metadata": {
    "id": "oqyMdpdi7-a0"
   },
   "source": [
    "Note que hemos generado una función de onda cuadrada con frecuencia 441 Hz. Esta arreglo producirá una nota musical clara."
   ]
  },
  {
   "cell_type": "code",
   "execution_count": null,
   "metadata": {
    "id": "HxNcFcQa7-a0"
   },
   "outputs": [],
   "source": [
    "sound = pygame.sndarray.make_sound(arr)\n",
    "sound.play();"
   ]
  },
  {
   "cell_type": "markdown",
   "metadata": {
    "id": "eIYuGamf7-a0"
   },
   "source": [
    "#### <ins> Problema 1 </ins>\n",
    "\n",
    "Genere una función de onda cuadrada como la anterior pero con una frecuencia de 350 Hz y luego reproduzca el sonido generado."
   ]
  },
  {
   "cell_type": "code",
   "execution_count": null,
   "metadata": {
    "id": "dG7djZMN7-a1"
   },
   "outputs": [],
   "source": [
    "# Resuelva aquí el problema 3"
   ]
  },
  {
   "cell_type": "markdown",
   "metadata": {
    "id": "DImJ-7G07-a1"
   },
   "source": [
    "Aunque el sonido generado anteriormente es claramente una nota musical, no suena muy *natural*. Esto es debido a que usualmente las cosas no vibran como funciones de onda cuadrada sino como sinusoides."
   ]
  },
  {
   "cell_type": "code",
   "execution_count": null,
   "metadata": {
    "id": "klkBrWOX7-a1"
   },
   "outputs": [],
   "source": [
    "# Generemos una señal sinusoidal con aplitud 8000 y frecuencia 441 Hz\n",
    "A = 8000\n",
    "freq = 441\n",
    "\n",
    "t = np.arange(0, 1, 1/44100)\n",
    "sinusoide = A*np.sin(2*np.pi*freq*t)\n",
    "sinusoide = sinusoide.astype(\"int16\")\n",
    "plt.plot(sinusoide[:1000])\n",
    "plt.show()"
   ]
  },
  {
   "cell_type": "code",
   "execution_count": null,
   "metadata": {
    "id": "ydROHaKV7-a1"
   },
   "outputs": [],
   "source": [
    "sound = pygame.sndarray.make_sound(sinusoide)\n",
    "sound.play();"
   ]
  },
  {
   "cell_type": "markdown",
   "metadata": {
    "id": "9B9yWfa27-a1"
   },
   "source": [
    "La nota producida es la misma que la generada con la función de onda cuadrada, pero se puede percibir que la calidad del sonido es diferente, el sonido producido por la señal sinusoidal es más *suave*.\n",
    "\n",
    "Podemo generar sonidos mas complejos combinando señales sinusoidales simples."
   ]
  },
  {
   "cell_type": "code",
   "execution_count": null,
   "metadata": {
    "id": "uAG-SDNZ7-a1"
   },
   "outputs": [],
   "source": [
    "t = np.arange(0, 1.5, 1/44100) # Generemos 1.5 s de audio.\n",
    "A = 8000\n",
    "f1 = 441\n",
    "f2 = 220.5\n",
    "f3 = 147\n",
    "\n",
    "nota1 = A*np.sin(2*np.pi*f1*t).astype(\"int16\")\n",
    "nota2 = A*np.sin(2*np.pi*f2*t).astype(\"int16\")\n",
    "nota3 = A*np.sin(2*np.pi*f3*t).astype(\"int16\")"
   ]
  },
  {
   "cell_type": "code",
   "execution_count": null,
   "metadata": {
    "id": "PBzRBImz7-a1"
   },
   "outputs": [],
   "source": [
    "sonido1 = pygame.sndarray.make_sound(nota1)\n",
    "sonido2 = pygame.sndarray.make_sound(nota2)\n",
    "sonido3 = pygame.sndarray.make_sound(nota3)"
   ]
  },
  {
   "cell_type": "code",
   "execution_count": null,
   "metadata": {
    "id": "r7NO6Cw57-a2"
   },
   "outputs": [],
   "source": [
    "sonido1.play();"
   ]
  },
  {
   "cell_type": "code",
   "execution_count": null,
   "metadata": {
    "id": "ZEXR1NlF7-a2"
   },
   "outputs": [],
   "source": [
    "sonido2.play();"
   ]
  },
  {
   "cell_type": "code",
   "execution_count": null,
   "metadata": {
    "id": "MfdJiZBS7-a2"
   },
   "outputs": [],
   "source": [
    "sonido3.play();"
   ]
  },
  {
   "cell_type": "code",
   "execution_count": null,
   "metadata": {
    "id": "EhDSRQve7-a2"
   },
   "outputs": [],
   "source": [
    "acorde = pygame.sndarray.make_sound(nota1 + nota2 + nota3)\n",
    "acorde.play();"
   ]
  },
  {
   "cell_type": "markdown",
   "metadata": {
    "id": "1MxLwXSX7-a2"
   },
   "source": [
    "El ejemplo anterior ilustra de forma muy básica la importancia y la utilidad de representar funciones como series de senos y cosenos."
   ]
  },
  {
   "cell_type": "markdown",
   "metadata": {
    "id": "gpn_wQ837-a2"
   },
   "source": [
    "<hr>\n",
    "\n",
    "# **Instrucciones Generales**\n",
    "1. Este laboratorio será realizado de manera *individual*.\n",
    "2. **Fecha de entrega**: Viernes 10 de Septiembre de 2021. Su solución debe subirla en un archivo ZIP enviado por GES y debe contener el archivo .ipynb con sus respuesta a cada inciso solicitado en cada uno de los *Problemas* indicados en la parte superior."
   ]
  }
 ],
 "metadata": {
  "colab": {
   "name": "Laboratorio_4.ipynb",
   "provenance": [],
   "toc_visible": true
  },
  "kernelspec": {
   "display_name": "math",
   "language": "python",
   "name": "math"
  },
  "language_info": {
   "codemirror_mode": {
    "name": "ipython",
    "version": 3
   },
   "file_extension": ".py",
   "mimetype": "text/x-python",
   "name": "python",
   "nbconvert_exporter": "python",
   "pygments_lexer": "ipython3",
   "version": "3.7.4"
  }
 },
 "nbformat": 4,
 "nbformat_minor": 1
}
