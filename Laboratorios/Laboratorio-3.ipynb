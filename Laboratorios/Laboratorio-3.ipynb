{
 "cells": [
  {
   "cell_type": "markdown",
   "metadata": {
    "id": "qcBKIiOR-pae"
   },
   "source": [
    "![MAP1.png](https://drive.google.com/uc?export=view&id=1p22MXtMQ1k1NgvBOzwZosb3gBWAzgi02)\n"
   ]
  },
  {
   "cell_type": "markdown",
   "metadata": {
    "id": "MnmRCcKo7-am"
   },
   "source": [
    "# Forma Ángulo-Fase de las Series de Fourier\n",
    "\n",
    "[![Open In Colab](https://colab.research.google.com/assets/colab-badge.svg)](https://colab.research.google.com/github/ivan-jgr/computacion-cientifica/blob/main/Laboratorios/Laboratorio-3.ipynb)\n",
    "\n",
    "La suma de senos y cosenos de diferente amplitud pero con la misma frecuencia es otra función armónica con diferente amplitud $A_n$ y un desface $\\phi$.\n",
    "\n",
    "$$a_n\\cos(\\omega_n t)+b_n\\sin(\\omega_n) = A_n\\cos(\\omega_n t+\\phi_n)$$\n",
    "\n",
    "<img src='https://github.com/ivan-jgr/computacion-cientifica/blob/main/misc/angle_phase_animation.gif?raw=true'/>\n",
    "\n",
    "Por lo que también podemos escribir la serie de Fourier de una función $f$ en la forma ángulo-fase (también llamada forma armónica):\n",
    "\n",
    "$$\\hat{f}(t) = a_0 +  \\sum_{n = 1}^\\infty A_n \\cos (\\omega_n t + \\phi_n),$$\n",
    "\n",
    "en donde los términos $A_n \\cos (\\omega_n t + \\phi_n)$ son usualmente llamados *armónicos*.\n",
    "\n",
    "En este laboratorio utilizaremos la forma angulo fase de la serie para graficar los espectros de amplitud y de fase de una función.\n",
    "\n",
    "#### <ins> Problema 1 </ins>\n",
    "\n",
    "Implemente la función `n_armonico(f, L, n)` que calcula en n-ésimo armónico de la serie de Fourier, i.e. $A_n \\cos (\\omega_n t + \\phi_n)$. Recuerde que \n",
    "$$A_n = \\sqrt{a_n^2 + b_n^2} \\quad \\text{y} \\quad \\phi_n = \\arctan\\left(-\\frac{b_n}{a_n}\\right).$$\n",
    "\n",
    "Su función debe retornar $A_n$ y $\\phi_n$. En python puede hacer esto de la siguiente forma\n",
    "```python\n",
    "\n",
    "def n_armonico(f, L, n):\n",
    "    \"\"\"\n",
    "    Calcula el n-ésimo armónico de f\n",
    "    :param f: es la función a la que se quiere representar como serie\n",
    "    :param L: es el semiperíodo de la función.\n",
    "    :param n: es el número de armónico; n = 1, 2,....\n",
    "    \n",
    "    :return: debe retornar la magnitud y fase del n-ésimo armónico.\n",
    "    \"\"\"\n",
    "    An = # Calculo An\n",
    "    phin = # Calculo phi_n\n",
    "    \n",
    "    # Note que se retornan 2 variables\n",
    "    return An, phin\n",
    "\n",
    "```\n"
   ]
  },
  {
   "cell_type": "code",
   "execution_count": null,
   "metadata": {
    "id": "JEvAaTBY7-aq"
   },
   "outputs": [],
   "source": [
    "# Importamos las librerías necesarias\n",
    "from scipy.integrate import quad\n",
    "from numpy import pi, arctan2, sqrt, cos, sin\n",
    "# La documentación de arctan2: https://numpy.org/doc/stable/reference/generated/numpy.arctan2.html\n",
    "\n",
    "def n_armonico(f, L, n):\n",
    "    \"\"\"\n",
    "    Calcula el n-ésimo armónico de f\n",
    "    :param f: es la función a la que se quiere representar como serie\n",
    "    :param L: es el semiperíodo de la función.\n",
    "    :param n: es el número de armónico; n = 1, 2,....\n",
    "    \n",
    "    :return: debe retornar la magnitud y fase del n-esimo armónico\n",
    "    \"\"\"\n",
    "    pass"
   ]
  },
  {
   "cell_type": "code",
   "execution_count": null,
   "metadata": {
    "id": "02HoCeu-7-ar"
   },
   "outputs": [],
   "source": [
    "import numpy as np\n",
    "import matplotlib.pyplot as plt\n",
    "from matplotlib import rcParams\n",
    "rcParams['figure.figsize'] = 15, 10\n",
    "\n",
    "# Visualicemos algunos armónicos de la función diente de sierra\n",
    "diente_sierra = lambda x: x\n",
    "\n",
    "t = np.linspace(-1, 2, 500)\n",
    "for i in range(1, 11):\n",
    "    an, phin = n_armonico(diente_sierra, 1, i)\n",
    "    narmonico = lambda x: an*cos(i*np.pi*x+ phin)\n",
    "    plt.subplot(3, 4, i)\n",
    "    \n",
    "    plt.plot(t, narmonico(t), label=f'armónico {i+1}')\n",
    "    plt.grid(linestyle='--')\n",
    "    plt.ylim(-1, 1)\n",
    "    plt.legend()"
   ]
  },
  {
   "cell_type": "markdown",
   "metadata": {
    "id": "LLF9ytNG7-as"
   },
   "source": [
    "#### <ins> Problema 2</ins>\n",
    "\n",
    "a) Defina la función `espectro(f, L, Nmax)` que grafica los espectros de magnitud y de fase de $f$. Indique las frecuencias en Hertz.\n",
    "\n",
    "b) Defina las siguientes funciones periódicas y para cada una de ellas grafique sus espectros de magnitud y fase. Grafique al menos 3 períodos de cada función y asegúrese que su definición corresponde a las funciones mostradas.\n",
    "\n",
    "1. <img src='https://github.com/ivan-jgr/computacion-cientifica/blob/main/misc/f1.png?raw=true'/>\n",
    "2. <img src='https://github.com/ivan-jgr/computacion-cientifica/blob/main/misc/f2.png?raw=true'/>\n",
    "3. <img src='https://github.com/ivan-jgr/computacion-cientifica/blob/main/misc/f3.png?raw=true'/>"
   ]
  },
  {
   "cell_type": "code",
   "execution_count": null,
   "metadata": {
    "id": "BvMyj4pT7-at"
   },
   "outputs": [],
   "source": [
    "import matplotlib.pyplot as plt\n",
    "plt.style.use('seaborn-whitegrid')\n",
    "\n",
    "def espectro(f, L, Nmax):\n",
    "    \"\"\"\n",
    "    Genera los espectros de magnitud y fase de f en la misma figura.\n",
    "    \n",
    "    :param f: función de la que se genera el espectro\n",
    "    :param L: semiperiodo de la función\n",
    "    :param Nmax: número máximo de términos a generar en el espectro\n",
    "    \"\"\"\n",
    "    \n",
    "    # Genere las frecuencias (como una lista) en Hertz para los primeros Nmax armóncios\n",
    "    frecuencias = None\n",
    "    # Genere la magnitud y fase también como una lista de valores\n",
    "    magnitudes = None\n",
    "    fases = None\n",
    "    \n",
    "    \n",
    "    ###### Aqui no tiene que hacer nada ######\n",
    "    fig, (ax1, ax2) = plt.subplots(1, 2)\n",
    "    fig.set_size_inches(20, 6)\n",
    "    fig.suptitle('Espectros de amplitud y fase', fontsize=18)\n",
    "    \n",
    "    ax1.stem(frecuencias, magnitudes, basefmt=\" \", use_line_collection=True)\n",
    "    ax1.set_xlabel('Frecuencia en Hz', fontsize=15)\n",
    "    ax1.set_ylabel('Magnitud', fontsize=15)\n",
    "    ax1.set_xticks(frecuencias)\n",
    "    ax1.grid(linestyle='-.')\n",
    "    \n",
    "    ax2.stem(frecuencias, fases, basefmt=\" \", use_line_collection=True)\n",
    "    ax2.set_xlabel('Frecuencia en Hz', fontsize=15)\n",
    "    ax2.set_ylabel('Fase', fontsize=15)\n",
    "    ax2.set_xticks(frecuencias)\n",
    "    ax2.grid(linestyle='-.')\n",
    "    \n",
    "    plt.show()"
   ]
  },
  {
   "cell_type": "code",
   "execution_count": null,
   "metadata": {
    "id": "C0KTPqqw7-at"
   },
   "outputs": [],
   "source": [
    "# Defina las funciones f1 , f2 y f3.\n",
    "\n",
    "# Grafique al menos 3 períodos para cada una"
   ]
  },
  {
   "cell_type": "code",
   "execution_count": null,
   "metadata": {
    "id": "guYvipFN7-au"
   },
   "outputs": [],
   "source": [
    "# Grafique el espectro de magnitud y fase para 1, con Nmax=20"
   ]
  },
  {
   "cell_type": "code",
   "execution_count": null,
   "metadata": {
    "id": "VZjnNRCk7-av"
   },
   "outputs": [],
   "source": [
    "# Grafique el espectro de magnitud y fase para 2, con Nmax=20"
   ]
  },
  {
   "cell_type": "code",
   "execution_count": null,
   "metadata": {
    "id": "Mjp-lTbS7-aw"
   },
   "outputs": [],
   "source": [
    "# Grafique el espectro de magnitud y fase para 3, con Nmax=20"
   ]
  },
  {
   "cell_type": "markdown",
   "metadata": {
    "id": "gpn_wQ837-a2"
   },
   "source": [
    "<hr>\n",
    "\n",
    "# **Instrucciones Generales**\n",
    "1. Este laboratorio será realizado de manera *individual*.\n",
    "2. **Fecha de entrega**: Viernes 3 de Septiembre de 2021. Su solución debe subirla en un archivo ZIP enviado por GES y debe contener el archivo .ipynb con sus respuesta a cada inciso solicitado en cada uno de los *Problemas* indicados en la parte superior."
   ]
  }
 ],
 "metadata": {
  "colab": {
   "name": "Laboratorio_3.ipynb",
   "provenance": []
  },
  "kernelspec": {
   "display_name": "math",
   "language": "python",
   "name": "math"
  },
  "language_info": {
   "codemirror_mode": {
    "name": "ipython",
    "version": 3
   },
   "file_extension": ".py",
   "mimetype": "text/x-python",
   "name": "python",
   "nbconvert_exporter": "python",
   "pygments_lexer": "ipython3",
   "version": "3.7.4"
  }
 },
 "nbformat": 4,
 "nbformat_minor": 1
}
