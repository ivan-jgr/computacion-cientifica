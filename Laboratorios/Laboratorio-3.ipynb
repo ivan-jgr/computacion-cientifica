{
 "cells": [
  {
   "cell_type": "markdown",
   "metadata": {},
   "source": [
    "# Forma Ángulo-Fase de las Series de Fourier\n",
    "\n",
    "[![Open In Colab](https://colab.research.google.com/assets/colab-badge.svg)](https://colab.research.google.com/github/ivan-jgr/computacion-cientifica/blob/main/Laboratorios/Laboratorio-3.ipynb)\n",
    "\n",
    "La suma de senos y cosenos de diferente amplitud pero con la misma frecuencia es otra función armónica con diferente amplitud $A_n$ y un desface $\\phi$.\n",
    "\n",
    "$$a_n\\cos(\\omega_n t)+b_n\\sin(\\omega_n) = A_n\\cos(\\omega_n t+\\phi_n)$$\n",
    "\n",
    "<img src='https://github.com/ivan-jgr/computacion-cientifica/blob/main/misc/angle_phase_animation.gif?raw=true'/>\n",
    "\n",
    "Por lo que también podemos escribir la serie de Fourier de una función $f$ en la forma ángulo-fase (también llamada forma armónica):\n",
    "\n",
    "$$\\hat{f}(t) = a_0 +  \\sum_{n = 1}^\\infty A_n \\cos (\\omega_n t + \\phi_n),$$\n",
    "\n",
    "en donde los términos $A_n \\cos (\\omega_n t + \\phi_n)$ son usualmente llamados *armónicos*.\n",
    "\n",
    "En este laboratorio utilizaremos la forma angulo fase de la serie para graficar los espectros de amplitud y de fase de una función.\n",
    "\n",
    "#### <ins> Problema 1 </ins>\n",
    "\n",
    "Implemente la función `n_armonico(f, L, n)` que calcula en n-ésimo armónico de la serie de Fourier, i.e. $A_n \\cos (\\omega_n t + \\phi_n)$. Recuerde que \n",
    "$$A_n = \\sqrt{a_n^2 + b_n^2} \\quad \\text{y} \\quad \\phi_n = \\arctan\\left(-\\frac{b_n}{a_n}\\right).$$\n",
    "\n",
    "Su función debe retornar $A_n$ y $\\phi_n$. En python puede hacer esto de la siguiente forma\n",
    "```python\n",
    "\n",
    "def n_armonico(f, L, n):\n",
    "    \"\"\"\n",
    "    Calcula el n-ésimo armónico de f\n",
    "    :param f: es la función a la que se quiere representar como serie\n",
    "    :param L: es el semiperíodo de la función.\n",
    "    :param n: es el número de armónico; n = 1, 2,....\n",
    "    \n",
    "    :return: debe retornar la magnitud y fase del n-ésimo armónico.\n",
    "    \"\"\"\n",
    "    An = # Calculo An\n",
    "    phin = # Calculo phi_n\n",
    "    \n",
    "    # Note que se retornan 2 variables\n",
    "    return An, phin\n",
    "\n",
    "```\n"
   ]
  },
  {
   "cell_type": "code",
   "execution_count": null,
   "metadata": {},
   "outputs": [],
   "source": [
    "# Importamos las librerías necesarias\n",
    "from scipy.integrate import quad\n",
    "from numpy import pi, arctan2, sqrt, cos, sin\n",
    "# La documentación de arctan2: https://numpy.org/doc/stable/reference/generated/numpy.arctan2.html\n",
    "\n",
    "def n_armonico(f, L, n):\n",
    "    \"\"\"\n",
    "    Calcula el n-ésimo armónico de f\n",
    "    :param f: es la función a la que se quiere representar como serie\n",
    "    :param L: es el semiperíodo de la función.\n",
    "    :param n: es el número de armónico; n = 1, 2,....\n",
    "    \n",
    "    :return: debe retornar la magnitud y fase del n-esimo armónico\n",
    "    \"\"\"\n",
    "    pass"
   ]
  },
  {
   "cell_type": "code",
   "execution_count": null,
   "metadata": {},
   "outputs": [],
   "source": [
    "import numpy as np\n",
    "import matplotlib.pyplot as plt\n",
    "from matplotlib import rcParams\n",
    "rcParams['figure.figsize'] = 15, 10\n",
    "\n",
    "# Visualicemos algunos armónicos de la función diente de sierra\n",
    "diente_sierra = lambda x: x\n",
    "\n",
    "t = np.linspace(-1, 2, 500)\n",
    "for i in range(1, 11):\n",
    "    an, phin = n_armonico(diente_sierra, 1, i)\n",
    "    narmonico = lambda x: an*cos(i*np.pi*x+ phin)\n",
    "    plt.subplot(3, 4, i)\n",
    "    \n",
    "    plt.plot(t, narmonico(t), label=f'armónico {i+1}')\n",
    "    plt.grid(linestyle='--')\n",
    "    plt.ylim(-1, 1)\n",
    "    plt.legend()"
   ]
  },
  {
   "cell_type": "markdown",
   "metadata": {},
   "source": [
    "#### <ins> Problema 2</ins>\n",
    "\n",
    "a) Defina la función `espectro(f, L, Nmax)` que grafica los espectros de magnitud y de fase de $f$. Indique las frecuencias en Hertz.\n",
    "\n",
    "b) Defina las siguientes funciones periódicas y para cada una de ellas grafique sus espectros de magnitud y fase. Grafique al menos 3 períodos de cada función y asegúrese que su definición corresponde a las funciones mostradas.\n",
    "\n",
    "1. <img src='https://github.com/ivan-jgr/computacion-cientifica/blob/main/misc/f1.png?raw=true'/>\n",
    "2. <img src='https://github.com/ivan-jgr/computacion-cientifica/blob/main/misc/f2.png?raw=true'/>\n",
    "3. <img src='https://github.com/ivan-jgr/computacion-cientifica/blob/main/misc/f3.png?raw=true'/>"
   ]
  },
  {
   "cell_type": "code",
   "execution_count": null,
   "metadata": {},
   "outputs": [],
   "source": [
    "import matplotlib.pyplot as plt\n",
    "plt.style.use('seaborn-whitegrid')\n",
    "\n",
    "def espectro(f, L, Nmax):\n",
    "    \"\"\"\n",
    "    Genera los espectros de magnitud y fase de f en la misma figura.\n",
    "    \n",
    "    :param f: función de la que se genera el espectro\n",
    "    :param L: semiperiodo de la función\n",
    "    :param Nmax: número máximo de términos a generar en el espectro\n",
    "    \"\"\"\n",
    "    \n",
    "    # Genere las frecuencias (como una lista) en Hertz para los primeros Nmax armóncios\n",
    "    frecuencias = None\n",
    "    # Genere la magnitud y fase también como una lista de valores\n",
    "    magnitudes = None\n",
    "    fases = None\n",
    "    \n",
    "    \n",
    "    ###### Aqui no tiene que hacer nada ######\n",
    "    fig, (ax1, ax2) = plt.subplots(1, 2)\n",
    "    fig.set_size_inches(20, 6)\n",
    "    fig.suptitle('Espectros de amplitud y fase', fontsize=18)\n",
    "    \n",
    "    ax1.stem(frecuencias, magnitudes, basefmt=\" \", use_line_collection=True)\n",
    "    ax1.set_xlabel('Frecuencia en Hz', fontsize=15)\n",
    "    ax1.set_ylabel('Magnitud', fontsize=15)\n",
    "    ax1.set_xticks(frecuencias)\n",
    "    ax1.grid(linestyle='-.')\n",
    "    \n",
    "    ax2.stem(frecuencias, fases, basefmt=\" \", use_line_collection=True)\n",
    "    ax2.set_xlabel('Frecuencia en Hz', fontsize=15)\n",
    "    ax2.set_ylabel('Fase', fontsize=15)\n",
    "    ax2.set_xticks(frecuencias)\n",
    "    ax2.grid(linestyle='-.')\n",
    "    \n",
    "    plt.show()"
   ]
  },
  {
   "cell_type": "code",
   "execution_count": null,
   "metadata": {},
   "outputs": [],
   "source": [
    "# Defina las funciones f1 , f2 y f3.\n",
    "\n",
    "# Grafique al menos 3 períodos para cada una"
   ]
  },
  {
   "cell_type": "code",
   "execution_count": null,
   "metadata": {},
   "outputs": [],
   "source": [
    "# Grafique el espectro de magnitud y fase para 1, con Nmax=20"
   ]
  },
  {
   "cell_type": "code",
   "execution_count": null,
   "metadata": {},
   "outputs": [],
   "source": [
    "# Grafique el espectro de magnitud y fase para 2, con Nmax=20"
   ]
  },
  {
   "cell_type": "code",
   "execution_count": null,
   "metadata": {},
   "outputs": [],
   "source": [
    "# Grafique el espectro de magnitud y fase para 3, con Nmax=20"
   ]
  },
  {
   "cell_type": "markdown",
   "metadata": {},
   "source": [
    "## Ondas de Sonido y Series de Fourier"
   ]
  },
  {
   "cell_type": "markdown",
   "metadata": {},
   "source": [
    "Lo que percibimos como sonido no es la presión del aire en sí, sino cambios rápidos en la presión del aire que hacen que nuestros tímpanos vibren. Por ejemplo, una cuerda vibrante hace que el aire a su alrededor cambie rápidamente de presión, y los cambios de presión se propagan a través del aire como ondas sonoras hasta que llegan al oído. En ese punto, el tímpano vibra al mismo ritmo y percibe un sonido.\n",
    "\n",
    "Puede pensar en un archivo digital de audio como una función que describe una vibración sobre el tiempo. Un software de audio interpretan esta función e indican a las bocinas la forma de vibrar para producir ondas de sonido en el aire alrededor.\n",
    "\n",
    "<img src='https://github.com/ivan-jgr/computacion-cientifica/blob/main/misc/sound.png?raw=true' width=500px/>\n",
    "\n",
    "Para nuestro análisis no importa exactamente lo que la función representa, pero lo podemos intepretar como la presión del aire vs tiempo."
   ]
  },
  {
   "cell_type": "markdown",
   "metadata": {},
   "source": [
    "## Produciendo sonido\n",
    "Usaremos algunas convenciones comunmente usadas en audio CD. Especificamente representaremos un segundo de audio con un arreglo de $44100$ (profundizaremos en esto al hablar de la transformada de Fourier) valores, cada uno como un entero de 16 bits (entre -32768 y 32767). Estos números representarán la intensidad del sonido para cada \"paso\" de tiempo, con 44100 pasos en un segundo."
   ]
  },
  {
   "cell_type": "code",
   "execution_count": null,
   "metadata": {},
   "outputs": [],
   "source": [
    "# Necesitamos instalar la librería pygame\n",
    "!pip install pygame"
   ]
  },
  {
   "cell_type": "code",
   "execution_count": null,
   "metadata": {},
   "outputs": [],
   "source": [
    "import pygame, pygame.sndarray\n",
    "\n",
    "pygame.mixer.init(frequency=44100, size=-16, channels=1);"
   ]
  },
  {
   "cell_type": "markdown",
   "metadata": {},
   "source": [
    "Empecemos con el ejemplo más simple: generar un segundo de audio creando un arreglo numpy de 44100 numeros aleatorios entre -32768 y 32767."
   ]
  },
  {
   "cell_type": "code",
   "execution_count": null,
   "metadata": {},
   "outputs": [],
   "source": [
    "rcParams['figure.figsize'] = 10, 5\n",
    "import numpy as np\n",
    "arr = np.random.randint(-32768, 32767, size=44100, dtype=\"int16\")\n",
    "\n",
    "# Veamos algunos terminos\n",
    "plt.plot(arr[:1000])"
   ]
  },
  {
   "cell_type": "code",
   "execution_count": null,
   "metadata": {},
   "outputs": [],
   "source": [
    "sound = pygame.sndarray.make_sound(arr)\n",
    "sound.play();"
   ]
  },
  {
   "cell_type": "markdown",
   "metadata": {},
   "source": [
    "Cuando escuchamos una nota musical, nuestros oidos detectan un patron de vibraciones en contraste con el ruido aleatorio. Podemos generar 44100 numeros con un patron especifico."
   ]
  },
  {
   "cell_type": "code",
   "execution_count": null,
   "metadata": {},
   "outputs": [],
   "source": [
    "form = np.repeat([10000,-10000],50)\n",
    "plt.plot(form)\n",
    "plt.show()"
   ]
  },
  {
   "cell_type": "code",
   "execution_count": null,
   "metadata": {},
   "outputs": [],
   "source": [
    "# Repitamos los 100 numeros anteriore 441 veces para tener los 44100 valores\n",
    "arr = np.tile(form, 441)\n",
    "arr = arr.astype(\"int16\")\n",
    "\n",
    "plt.plot(arr[:1000])\n",
    "plt.show()"
   ]
  },
  {
   "cell_type": "markdown",
   "metadata": {},
   "source": [
    "Note que hemos generado una función de onda cuadrada con frecuencia 441 Hz. Esta arreglo producirá una nota musical clara."
   ]
  },
  {
   "cell_type": "code",
   "execution_count": null,
   "metadata": {},
   "outputs": [],
   "source": [
    "sound = pygame.sndarray.make_sound(arr)\n",
    "sound.play();"
   ]
  },
  {
   "cell_type": "markdown",
   "metadata": {},
   "source": [
    "#### <ins> Problema 3 </ins>\n",
    "\n",
    "Genere una función de onda cuadrada como la anterior pero con una frecuencia de 350 Hz y luego reproduzca el sonido generado."
   ]
  },
  {
   "cell_type": "code",
   "execution_count": null,
   "metadata": {},
   "outputs": [],
   "source": [
    "# Resuelva aquí el problema 3"
   ]
  },
  {
   "cell_type": "markdown",
   "metadata": {},
   "source": [
    "Aunque el sonido generado anteriormente es claramente una nota musical, no suena muy *natural*. Esto es debido a que usualmente las cosas no vibran como funciones de onda cuadrada sino como sinusoides."
   ]
  },
  {
   "cell_type": "code",
   "execution_count": null,
   "metadata": {},
   "outputs": [],
   "source": [
    "# Generemos una señal sinusoidal con aplitud 8000 y frecuencia 441 Hz\n",
    "A = 8000\n",
    "freq = 441\n",
    "\n",
    "t = np.arange(0, 1, 1/44100)\n",
    "sinusoide = A*np.sin(2*np.pi*freq*t)\n",
    "sinusoide = sinusoide.astype(\"int16\")\n",
    "plt.plot(sinusoide[:1000])\n",
    "plt.show()"
   ]
  },
  {
   "cell_type": "code",
   "execution_count": null,
   "metadata": {},
   "outputs": [],
   "source": [
    "sound = pygame.sndarray.make_sound(sinusoide)\n",
    "sound.play();"
   ]
  },
  {
   "cell_type": "markdown",
   "metadata": {},
   "source": [
    "La nota producida es la misma que la generada con la función de onda cuadrada, pero se puede percibir que la calidad del sonido es diferente, el sonido producido por la señal sinusoidal es más *suave*.\n",
    "\n",
    "Podemo generar sonidos mas complejos combinando señales sinusoidales simples."
   ]
  },
  {
   "cell_type": "code",
   "execution_count": null,
   "metadata": {},
   "outputs": [],
   "source": [
    "t = np.arange(0, 1.5, 1/44100) # Generemos 1.5 s de audio.\n",
    "A = 8000\n",
    "f1 = 441\n",
    "f2 = 220.5\n",
    "f3 = 147\n",
    "\n",
    "nota1 = A*np.sin(2*np.pi*f1*t).astype(\"int16\")\n",
    "nota2 = A*np.sin(2*np.pi*f2*t).astype(\"int16\")\n",
    "nota3 = A*np.sin(2*np.pi*f3*t).astype(\"int16\")"
   ]
  },
  {
   "cell_type": "code",
   "execution_count": null,
   "metadata": {},
   "outputs": [],
   "source": [
    "sonido1 = pygame.sndarray.make_sound(nota1)\n",
    "sonido2 = pygame.sndarray.make_sound(nota2)\n",
    "sonido3 = pygame.sndarray.make_sound(nota3)"
   ]
  },
  {
   "cell_type": "code",
   "execution_count": null,
   "metadata": {},
   "outputs": [],
   "source": [
    "sonido1.play();"
   ]
  },
  {
   "cell_type": "code",
   "execution_count": null,
   "metadata": {},
   "outputs": [],
   "source": [
    "sonido2.play();"
   ]
  },
  {
   "cell_type": "code",
   "execution_count": null,
   "metadata": {},
   "outputs": [],
   "source": [
    "sonido3.play();"
   ]
  },
  {
   "cell_type": "code",
   "execution_count": null,
   "metadata": {},
   "outputs": [],
   "source": [
    "acorde = pygame.sndarray.make_sound(nota1 + nota2 + nota3)\n",
    "acorde.play();"
   ]
  },
  {
   "cell_type": "markdown",
   "metadata": {},
   "source": [
    "El ejemplo anterior ilustra de forma muy básica la importancia y la utilidad de representar funciones como series de senos y cosenos."
   ]
  },
  {
   "cell_type": "markdown",
   "metadata": {},
   "source": [
    "<hr>\n",
    "\n",
    "# **Instrucciones Generales**\n",
    "1. Este laboratorio será realizado de manera *individual*.\n",
    "2. **Fecha de entrega**: Viernes 12 de Agosto de 2021. Su solución debe subirla en un archivo ZIP enviado por GES y debe contener el archivo .ipynb con sus respuesta a cada inciso solicitado en cada uno de los *Problemas* indicados en la parte superior."
   ]
  }
 ],
 "metadata": {
  "kernelspec": {
   "display_name": "math",
   "language": "python",
   "name": "math"
  },
  "language_info": {
   "codemirror_mode": {
    "name": "ipython",
    "version": 3
   },
   "file_extension": ".py",
   "mimetype": "text/x-python",
   "name": "python",
   "nbconvert_exporter": "python",
   "pygments_lexer": "ipython3",
   "version": "3.7.4"
  }
 },
 "nbformat": 4,
 "nbformat_minor": 2
}
